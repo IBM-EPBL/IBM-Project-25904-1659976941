{
 "cells": [
  {
   "cell_type": "markdown",
   "id": "262db585",
   "metadata": {},
   "source": [
    "## Importing the required packages"
   ]
  },
  {
   "cell_type": "code",
   "execution_count": 1,
   "id": "82cb00dc",
   "metadata": {},
   "outputs": [],
   "source": [
    "import numpy as np\n",
    "import pandas as pd\n",
    "import matplotlib.pyplot as plt\n",
    "import seaborn as sb\n",
    "from sklearn.preprocessing import scale\n",
    "from sklearn.model_selection import train_test_split\n",
    "from sklearn.metrics import accuracy_score, classification_report, precision_recall_fscore_support\n",
    "import joblib"
   ]
  },
  {
   "cell_type": "markdown",
   "id": "8c6bcaee",
   "metadata": {},
   "source": [
    "## Loading the dataset"
   ]
  },
  {
   "cell_type": "code",
   "execution_count": 2,
   "id": "2468bfdd",
   "metadata": {},
   "outputs": [
    {
     "data": {
      "text/html": [
       "<div>\n",
       "<style scoped>\n",
       "    .dataframe tbody tr th:only-of-type {\n",
       "        vertical-align: middle;\n",
       "    }\n",
       "\n",
       "    .dataframe tbody tr th {\n",
       "        vertical-align: top;\n",
       "    }\n",
       "\n",
       "    .dataframe thead th {\n",
       "        text-align: right;\n",
       "    }\n",
       "</style>\n",
       "<table border=\"1\" class=\"dataframe\">\n",
       "  <thead>\n",
       "    <tr style=\"text-align: right;\">\n",
       "      <th></th>\n",
       "      <th>YEAR</th>\n",
       "      <th>QUARTER</th>\n",
       "      <th>MONTH</th>\n",
       "      <th>DAY_OF_MONTH</th>\n",
       "      <th>DAY_OF_WEEK</th>\n",
       "      <th>UNIQUE_CARRIER</th>\n",
       "      <th>TAIL_NUM</th>\n",
       "      <th>FL_NUM</th>\n",
       "      <th>ORIGIN_AIRPORT_ID</th>\n",
       "      <th>ORIGIN</th>\n",
       "      <th>...</th>\n",
       "      <th>CRS_ARR_TIME</th>\n",
       "      <th>ARR_TIME</th>\n",
       "      <th>ARR_DELAY</th>\n",
       "      <th>ARR_DEL15</th>\n",
       "      <th>CANCELLED</th>\n",
       "      <th>DIVERTED</th>\n",
       "      <th>CRS_ELAPSED_TIME</th>\n",
       "      <th>ACTUAL_ELAPSED_TIME</th>\n",
       "      <th>DISTANCE</th>\n",
       "      <th>Unnamed: 25</th>\n",
       "    </tr>\n",
       "  </thead>\n",
       "  <tbody>\n",
       "    <tr>\n",
       "      <th>0</th>\n",
       "      <td>2016</td>\n",
       "      <td>1</td>\n",
       "      <td>1</td>\n",
       "      <td>1</td>\n",
       "      <td>5</td>\n",
       "      <td>DL</td>\n",
       "      <td>N836DN</td>\n",
       "      <td>1399</td>\n",
       "      <td>10397</td>\n",
       "      <td>ATL</td>\n",
       "      <td>...</td>\n",
       "      <td>2143</td>\n",
       "      <td>2102.0</td>\n",
       "      <td>-41.0</td>\n",
       "      <td>0.0</td>\n",
       "      <td>0.0</td>\n",
       "      <td>0.0</td>\n",
       "      <td>338.0</td>\n",
       "      <td>295.0</td>\n",
       "      <td>2182.0</td>\n",
       "      <td>NaN</td>\n",
       "    </tr>\n",
       "    <tr>\n",
       "      <th>1</th>\n",
       "      <td>2016</td>\n",
       "      <td>1</td>\n",
       "      <td>1</td>\n",
       "      <td>1</td>\n",
       "      <td>5</td>\n",
       "      <td>DL</td>\n",
       "      <td>N964DN</td>\n",
       "      <td>1476</td>\n",
       "      <td>11433</td>\n",
       "      <td>DTW</td>\n",
       "      <td>...</td>\n",
       "      <td>1435</td>\n",
       "      <td>1439.0</td>\n",
       "      <td>4.0</td>\n",
       "      <td>0.0</td>\n",
       "      <td>0.0</td>\n",
       "      <td>0.0</td>\n",
       "      <td>110.0</td>\n",
       "      <td>115.0</td>\n",
       "      <td>528.0</td>\n",
       "      <td>NaN</td>\n",
       "    </tr>\n",
       "    <tr>\n",
       "      <th>2</th>\n",
       "      <td>2016</td>\n",
       "      <td>1</td>\n",
       "      <td>1</td>\n",
       "      <td>1</td>\n",
       "      <td>5</td>\n",
       "      <td>DL</td>\n",
       "      <td>N813DN</td>\n",
       "      <td>1597</td>\n",
       "      <td>10397</td>\n",
       "      <td>ATL</td>\n",
       "      <td>...</td>\n",
       "      <td>1215</td>\n",
       "      <td>1142.0</td>\n",
       "      <td>-33.0</td>\n",
       "      <td>0.0</td>\n",
       "      <td>0.0</td>\n",
       "      <td>0.0</td>\n",
       "      <td>335.0</td>\n",
       "      <td>300.0</td>\n",
       "      <td>2182.0</td>\n",
       "      <td>NaN</td>\n",
       "    </tr>\n",
       "    <tr>\n",
       "      <th>3</th>\n",
       "      <td>2016</td>\n",
       "      <td>1</td>\n",
       "      <td>1</td>\n",
       "      <td>1</td>\n",
       "      <td>5</td>\n",
       "      <td>DL</td>\n",
       "      <td>N587NW</td>\n",
       "      <td>1768</td>\n",
       "      <td>14747</td>\n",
       "      <td>SEA</td>\n",
       "      <td>...</td>\n",
       "      <td>1335</td>\n",
       "      <td>1345.0</td>\n",
       "      <td>10.0</td>\n",
       "      <td>0.0</td>\n",
       "      <td>0.0</td>\n",
       "      <td>0.0</td>\n",
       "      <td>196.0</td>\n",
       "      <td>205.0</td>\n",
       "      <td>1399.0</td>\n",
       "      <td>NaN</td>\n",
       "    </tr>\n",
       "    <tr>\n",
       "      <th>4</th>\n",
       "      <td>2016</td>\n",
       "      <td>1</td>\n",
       "      <td>1</td>\n",
       "      <td>1</td>\n",
       "      <td>5</td>\n",
       "      <td>DL</td>\n",
       "      <td>N836DN</td>\n",
       "      <td>1823</td>\n",
       "      <td>14747</td>\n",
       "      <td>SEA</td>\n",
       "      <td>...</td>\n",
       "      <td>607</td>\n",
       "      <td>615.0</td>\n",
       "      <td>8.0</td>\n",
       "      <td>0.0</td>\n",
       "      <td>0.0</td>\n",
       "      <td>0.0</td>\n",
       "      <td>247.0</td>\n",
       "      <td>259.0</td>\n",
       "      <td>1927.0</td>\n",
       "      <td>NaN</td>\n",
       "    </tr>\n",
       "  </tbody>\n",
       "</table>\n",
       "<p>5 rows × 26 columns</p>\n",
       "</div>"
      ],
      "text/plain": [
       "   YEAR  QUARTER  MONTH  DAY_OF_MONTH  DAY_OF_WEEK UNIQUE_CARRIER TAIL_NUM  \\\n",
       "0  2016        1      1             1            5             DL   N836DN   \n",
       "1  2016        1      1             1            5             DL   N964DN   \n",
       "2  2016        1      1             1            5             DL   N813DN   \n",
       "3  2016        1      1             1            5             DL   N587NW   \n",
       "4  2016        1      1             1            5             DL   N836DN   \n",
       "\n",
       "   FL_NUM  ORIGIN_AIRPORT_ID ORIGIN  ...  CRS_ARR_TIME ARR_TIME  ARR_DELAY  \\\n",
       "0    1399              10397    ATL  ...          2143   2102.0      -41.0   \n",
       "1    1476              11433    DTW  ...          1435   1439.0        4.0   \n",
       "2    1597              10397    ATL  ...          1215   1142.0      -33.0   \n",
       "3    1768              14747    SEA  ...          1335   1345.0       10.0   \n",
       "4    1823              14747    SEA  ...           607    615.0        8.0   \n",
       "\n",
       "   ARR_DEL15  CANCELLED  DIVERTED  CRS_ELAPSED_TIME  ACTUAL_ELAPSED_TIME  \\\n",
       "0        0.0        0.0       0.0             338.0                295.0   \n",
       "1        0.0        0.0       0.0             110.0                115.0   \n",
       "2        0.0        0.0       0.0             335.0                300.0   \n",
       "3        0.0        0.0       0.0             196.0                205.0   \n",
       "4        0.0        0.0       0.0             247.0                259.0   \n",
       "\n",
       "   DISTANCE  Unnamed: 25  \n",
       "0    2182.0          NaN  \n",
       "1     528.0          NaN  \n",
       "2    2182.0          NaN  \n",
       "3    1399.0          NaN  \n",
       "4    1927.0          NaN  \n",
       "\n",
       "[5 rows x 26 columns]"
      ]
     },
     "execution_count": 2,
     "metadata": {},
     "output_type": "execute_result"
    }
   ],
   "source": [
    "df = pd.read_csv('flightdata.csv')\n",
    "df.head()"
   ]
  },
  {
   "cell_type": "code",
   "execution_count": 3,
   "id": "6e0a0292",
   "metadata": {},
   "outputs": [
    {
     "name": "stdout",
     "output_type": "stream",
     "text": [
      "<class 'pandas.core.frame.DataFrame'>\n",
      "RangeIndex: 11231 entries, 0 to 11230\n",
      "Data columns (total 26 columns):\n",
      " #   Column               Non-Null Count  Dtype  \n",
      "---  ------               --------------  -----  \n",
      " 0   YEAR                 11231 non-null  int64  \n",
      " 1   QUARTER              11231 non-null  int64  \n",
      " 2   MONTH                11231 non-null  int64  \n",
      " 3   DAY_OF_MONTH         11231 non-null  int64  \n",
      " 4   DAY_OF_WEEK          11231 non-null  int64  \n",
      " 5   UNIQUE_CARRIER       11231 non-null  object \n",
      " 6   TAIL_NUM             11231 non-null  object \n",
      " 7   FL_NUM               11231 non-null  int64  \n",
      " 8   ORIGIN_AIRPORT_ID    11231 non-null  int64  \n",
      " 9   ORIGIN               11231 non-null  object \n",
      " 10  DEST_AIRPORT_ID      11231 non-null  int64  \n",
      " 11  DEST                 11231 non-null  object \n",
      " 12  CRS_DEP_TIME         11231 non-null  int64  \n",
      " 13  DEP_TIME             11124 non-null  float64\n",
      " 14  DEP_DELAY            11124 non-null  float64\n",
      " 15  DEP_DEL15            11124 non-null  float64\n",
      " 16  CRS_ARR_TIME         11231 non-null  int64  \n",
      " 17  ARR_TIME             11116 non-null  float64\n",
      " 18  ARR_DELAY            11043 non-null  float64\n",
      " 19  ARR_DEL15            11043 non-null  float64\n",
      " 20  CANCELLED            11231 non-null  float64\n",
      " 21  DIVERTED             11231 non-null  float64\n",
      " 22  CRS_ELAPSED_TIME     11231 non-null  float64\n",
      " 23  ACTUAL_ELAPSED_TIME  11043 non-null  float64\n",
      " 24  DISTANCE             11231 non-null  float64\n",
      " 25  Unnamed: 25          0 non-null      float64\n",
      "dtypes: float64(12), int64(10), object(4)\n",
      "memory usage: 2.2+ MB\n"
     ]
    }
   ],
   "source": [
    "df.info()"
   ]
  },
  {
   "cell_type": "markdown",
   "id": "8f31f741",
   "metadata": {},
   "source": [
    "## Performing Univariate Analysis"
   ]
  },
  {
   "cell_type": "markdown",
   "id": "296a782b",
   "metadata": {},
   "source": [
    "### Using Pie Chart"
   ]
  },
  {
   "cell_type": "code",
   "execution_count": 4,
   "id": "6fcbc81a",
   "metadata": {},
   "outputs": [
    {
     "data": {
      "text/plain": [
       "<AxesSubplot:ylabel='YEAR'>"
      ]
     },
     "execution_count": 4,
     "metadata": {},
     "output_type": "execute_result"
    },
    {
     "data": {
      "image/png": "[encoded data removed]",
      "text/plain": [
       "<Figure size 432x288 with 1 Axes>"
      ]
     },
     "metadata": {},
     "output_type": "display_data"
    }
   ],
   "source": [
    "df['YEAR'].value_counts().plot(kind='pie', autopct='%.0f')"
   ]
  },
  {
   "cell_type": "markdown",
   "id": "dcbbda44",
   "metadata": {},
   "source": [
    "## Performing Bivariate Analysis"
   ]
  },
  {
   "cell_type": "markdown",
   "id": "f0e88eec",
   "metadata": {},
   "source": [
    "### Using scatterplot"
   ]
  },
  {
   "cell_type": "code",
   "execution_count": 5,
   "id": "32250c85",
   "metadata": {},
   "outputs": [
    {
     "data": {
      "text/plain": [
       "Text(0, 0.5, 'DEP_DEL15')"
      ]
     },
     "execution_count": 5,
     "metadata": {},
     "output_type": "execute_result"
    },
    {
     "data": {
      "image/png": "[encoded data removed]",
      "text/plain": [
       "<Figure size 432x288 with 1 Axes>"
      ]
     },
     "metadata": {
      "needs_background": "light"
     },
     "output_type": "display_data"
    }
   ],
   "source": [
    "plt.scatter(df.DEP_DELAY, df.DEP_DEL15)\n",
    "plt.title('Departure Delay Analysis')\n",
    "plt.xlabel('DEP_DELAY')\n",
    "plt.ylabel('DEP_DEL15')"
   ]
  },
  {
   "cell_type": "code",
   "execution_count": 6,
   "id": "9f376aa8",
   "metadata": {},
   "outputs": [
    {
     "data": {
      "text/plain": [
       "Text(0, 0.5, 'ARR_DEL15')"
      ]
     },
     "execution_count": 6,
     "metadata": {},
     "output_type": "execute_result"
    },
    {
     "data": {
      "image/png": "[encoded data removed]",
      "text/plain": [
       "<Figure size 432x288 with 1 Axes>"
      ]
     },
     "metadata": {
      "needs_background": "light"
     },
     "output_type": "display_data"
    }
   ],
   "source": [
    "plt.scatter(df.DEP_DELAY, df.DEP_DEL15)\n",
    "plt.title('Arrival Delay Analysis')\n",
    "plt.xlabel('ARR_DELAY')\n",
    "plt.ylabel('ARR_DEL15')"
   ]
  },
  {
   "cell_type": "markdown",
   "id": "1fbc7c99",
   "metadata": {},
   "source": [
    "### Using lineplots"
   ]
  },
  {
   "cell_type": "code",
   "execution_count": 7,
   "id": "31a76902",
   "metadata": {},
   "outputs": [
    {
     "data": {
      "text/plain": [
       "[<matplotlib.lines.Line2D at 0x7f461b5b3d60>]"
      ]
     },
     "execution_count": 7,
     "metadata": {},
     "output_type": "execute_result"
    },
    {
     "data": {
      "image/png": "[encoded data removed]",
      "text/plain": [
       "<Figure size 720x216 with 2 Axes>"
      ]
     },
     "metadata": {
      "needs_background": "light"
     },
     "output_type": "display_data"
    }
   ],
   "source": [
    "fig, ax = plt.subplots(figsize=(10, 3))\n",
    "plt.subplot(1, 2, 1)\n",
    "plt.title('CRS_DEP_TIME')\n",
    "plt.plot(df.CRS_DEP_TIME)\n",
    "plt.subplot(1, 2, 2)\n",
    "plt.title('DEP_TIME')\n",
    "plt.plot(df.DEP_TIME)"
   ]
  },
  {
   "cell_type": "code",
   "execution_count": 8,
   "id": "aaaf4d18",
   "metadata": {},
   "outputs": [
    {
     "data": {
      "text/plain": [
       "[<matplotlib.lines.Line2D at 0x7f461b4c6500>]"
      ]
     },
     "execution_count": 8,
     "metadata": {},
     "output_type": "execute_result"
    },
    {
     "data": {
      "image/png": "[encoded data removed]",
      "text/plain": [
       "<Figure size 720x216 with 2 Axes>"
      ]
     },
     "metadata": {
      "needs_background": "light"
     },
     "output_type": "display_data"
    }
   ],
   "source": [
    "fig, ax = plt.subplots(figsize=(10, 3))\n",
    "plt.subplot(1, 2, 1)\n",
    "plt.title('CRS_ARR_TIME')\n",
    "plt.plot(df.CRS_ARR_TIME)\n",
    "plt.subplot(1, 2, 2)\n",
    "plt.title('ARR_TIME')\n",
    "plt.plot(df.ARR_TIME)"
   ]
  },
  {
   "cell_type": "code",
   "execution_count": 9,
   "id": "bad12bcc",
   "metadata": {},
   "outputs": [
    {
     "data": {
      "text/plain": [
       "[<matplotlib.lines.Line2D at 0x7f461af84ac0>]"
      ]
     },
     "execution_count": 9,
     "metadata": {},
     "output_type": "execute_result"
    },
    {
     "data": {
      "image/png": "[encoded data removed]",
      "text/plain": [
       "<Figure size 720x216 with 2 Axes>"
      ]
     },
     "metadata": {
      "needs_background": "light"
     },
     "output_type": "display_data"
    }
   ],
   "source": [
    "fig, ax = plt.subplots(figsize=(10, 3))\n",
    "plt.subplot(1, 2, 1)\n",
    "plt.title('CRS_ELAPSED_TIME')\n",
    "plt.plot(df.CRS_ELAPSED_TIME)\n",
    "plt.subplot(1, 2, 2)\n",
    "plt.title('ACTUAL_ELAPSED_TIME')\n",
    "plt.plot(df.ACTUAL_ELAPSED_TIME)"
   ]
  },
  {
   "cell_type": "markdown",
   "id": "0d099281",
   "metadata": {},
   "source": [
    "## Performing Multivariate Analysis"
   ]
  },
  {
   "cell_type": "markdown",
   "id": "563517a2",
   "metadata": {},
   "source": [
    "### Using pairplot"
   ]
  },
  {
   "cell_type": "code",
   "execution_count": 10,
   "id": "65d7eb76",
   "metadata": {},
   "outputs": [],
   "source": [
    "#sb.pairplot(df.iloc[:, 12:])"
   ]
  },
  {
   "cell_type": "markdown",
   "id": "80253140",
   "metadata": {},
   "source": [
    "### Using heatmap"
   ]
  },
  {
   "cell_type": "code",
   "execution_count": 11,
   "id": "878abcf0",
   "metadata": {},
   "outputs": [
    {
     "data": {
      "text/plain": [
       "<AxesSubplot:>"
      ]
     },
     "execution_count": 11,
     "metadata": {},
     "output_type": "execute_result"
    },
    {
     "data": {
      "image/png": "[encoded data removed]",
      "text/plain": [
       "<Figure size 1080x720 with 2 Axes>"
      ]
     },
     "metadata": {
      "needs_background": "light"
     },
     "output_type": "display_data"
    }
   ],
   "source": [
    "fig, ax = plt.subplots(figsize=(15, 10))\n",
    "sb.heatmap(df.iloc[:, 12:].corr(), annot=True, ax=ax)"
   ]
  },
  {
   "cell_type": "markdown",
   "id": "1554cca5",
   "metadata": {},
   "source": [
    "## Performing Descriptive Analysis"
   ]
  },
  {
   "cell_type": "code",
   "execution_count": 12,
   "id": "301af5cd",
   "metadata": {},
   "outputs": [
    {
     "data": {
      "text/html": [
       "<div>\n",
       "<style scoped>\n",
       "    .dataframe tbody tr th:only-of-type {\n",
       "        vertical-align: middle;\n",
       "    }\n",
       "\n",
       "    .dataframe tbody tr th {\n",
       "        vertical-align: top;\n",
       "    }\n",
       "\n",
       "    .dataframe thead th {\n",
       "        text-align: right;\n",
       "    }\n",
       "</style>\n",
       "<table border=\"1\" class=\"dataframe\">\n",
       "  <thead>\n",
       "    <tr style=\"text-align: right;\">\n",
       "      <th></th>\n",
       "      <th>YEAR</th>\n",
       "      <th>QUARTER</th>\n",
       "      <th>MONTH</th>\n",
       "      <th>DAY_OF_MONTH</th>\n",
       "      <th>DAY_OF_WEEK</th>\n",
       "      <th>FL_NUM</th>\n",
       "      <th>ORIGIN_AIRPORT_ID</th>\n",
       "      <th>DEST_AIRPORT_ID</th>\n",
       "      <th>CRS_DEP_TIME</th>\n",
       "      <th>DEP_TIME</th>\n",
       "      <th>...</th>\n",
       "      <th>CRS_ARR_TIME</th>\n",
       "      <th>ARR_TIME</th>\n",
       "      <th>ARR_DELAY</th>\n",
       "      <th>ARR_DEL15</th>\n",
       "      <th>CANCELLED</th>\n",
       "      <th>DIVERTED</th>\n",
       "      <th>CRS_ELAPSED_TIME</th>\n",
       "      <th>ACTUAL_ELAPSED_TIME</th>\n",
       "      <th>DISTANCE</th>\n",
       "      <th>Unnamed: 25</th>\n",
       "    </tr>\n",
       "  </thead>\n",
       "  <tbody>\n",
       "    <tr>\n",
       "      <th>count</th>\n",
       "      <td>11231.0</td>\n",
       "      <td>11231.000000</td>\n",
       "      <td>11231.000000</td>\n",
       "      <td>11231.000000</td>\n",
       "      <td>11231.000000</td>\n",
       "      <td>11231.000000</td>\n",
       "      <td>11231.000000</td>\n",
       "      <td>11231.000000</td>\n",
       "      <td>11231.000000</td>\n",
       "      <td>11124.000000</td>\n",
       "      <td>...</td>\n",
       "      <td>11231.000000</td>\n",
       "      <td>11116.000000</td>\n",
       "      <td>11043.000000</td>\n",
       "      <td>11043.000000</td>\n",
       "      <td>11231.000000</td>\n",
       "      <td>11231.000000</td>\n",
       "      <td>11231.000000</td>\n",
       "      <td>11043.000000</td>\n",
       "      <td>11231.000000</td>\n",
       "      <td>0.0</td>\n",
       "    </tr>\n",
       "    <tr>\n",
       "      <th>mean</th>\n",
       "      <td>2016.0</td>\n",
       "      <td>2.544475</td>\n",
       "      <td>6.628973</td>\n",
       "      <td>15.790758</td>\n",
       "      <td>3.960199</td>\n",
       "      <td>1334.325617</td>\n",
       "      <td>12334.516695</td>\n",
       "      <td>12302.274508</td>\n",
       "      <td>1320.798326</td>\n",
       "      <td>1327.189410</td>\n",
       "      <td>...</td>\n",
       "      <td>1537.312795</td>\n",
       "      <td>1523.978499</td>\n",
       "      <td>-2.573123</td>\n",
       "      <td>0.124513</td>\n",
       "      <td>0.010150</td>\n",
       "      <td>0.006589</td>\n",
       "      <td>190.652124</td>\n",
       "      <td>179.661233</td>\n",
       "      <td>1161.031965</td>\n",
       "      <td>NaN</td>\n",
       "    </tr>\n",
       "    <tr>\n",
       "      <th>std</th>\n",
       "      <td>0.0</td>\n",
       "      <td>1.090701</td>\n",
       "      <td>3.354678</td>\n",
       "      <td>8.782056</td>\n",
       "      <td>1.995257</td>\n",
       "      <td>811.875227</td>\n",
       "      <td>1595.026510</td>\n",
       "      <td>1601.988550</td>\n",
       "      <td>490.737845</td>\n",
       "      <td>500.306462</td>\n",
       "      <td>...</td>\n",
       "      <td>502.512494</td>\n",
       "      <td>512.536041</td>\n",
       "      <td>39.232521</td>\n",
       "      <td>0.330181</td>\n",
       "      <td>0.100241</td>\n",
       "      <td>0.080908</td>\n",
       "      <td>78.386317</td>\n",
       "      <td>77.940399</td>\n",
       "      <td>643.683379</td>\n",
       "      <td>NaN</td>\n",
       "    </tr>\n",
       "    <tr>\n",
       "      <th>min</th>\n",
       "      <td>2016.0</td>\n",
       "      <td>1.000000</td>\n",
       "      <td>1.000000</td>\n",
       "      <td>1.000000</td>\n",
       "      <td>1.000000</td>\n",
       "      <td>7.000000</td>\n",
       "      <td>10397.000000</td>\n",
       "      <td>10397.000000</td>\n",
       "      <td>10.000000</td>\n",
       "      <td>1.000000</td>\n",
       "      <td>...</td>\n",
       "      <td>2.000000</td>\n",
       "      <td>1.000000</td>\n",
       "      <td>-67.000000</td>\n",
       "      <td>0.000000</td>\n",
       "      <td>0.000000</td>\n",
       "      <td>0.000000</td>\n",
       "      <td>93.000000</td>\n",
       "      <td>75.000000</td>\n",
       "      <td>509.000000</td>\n",
       "      <td>NaN</td>\n",
       "    </tr>\n",
       "    <tr>\n",
       "      <th>25%</th>\n",
       "      <td>2016.0</td>\n",
       "      <td>2.000000</td>\n",
       "      <td>4.000000</td>\n",
       "      <td>8.000000</td>\n",
       "      <td>2.000000</td>\n",
       "      <td>624.000000</td>\n",
       "      <td>10397.000000</td>\n",
       "      <td>10397.000000</td>\n",
       "      <td>905.000000</td>\n",
       "      <td>905.000000</td>\n",
       "      <td>...</td>\n",
       "      <td>1130.000000</td>\n",
       "      <td>1135.000000</td>\n",
       "      <td>-19.000000</td>\n",
       "      <td>0.000000</td>\n",
       "      <td>0.000000</td>\n",
       "      <td>0.000000</td>\n",
       "      <td>127.000000</td>\n",
       "      <td>117.000000</td>\n",
       "      <td>594.000000</td>\n",
       "      <td>NaN</td>\n",
       "    </tr>\n",
       "    <tr>\n",
       "      <th>50%</th>\n",
       "      <td>2016.0</td>\n",
       "      <td>3.000000</td>\n",
       "      <td>7.000000</td>\n",
       "      <td>16.000000</td>\n",
       "      <td>4.000000</td>\n",
       "      <td>1267.000000</td>\n",
       "      <td>12478.000000</td>\n",
       "      <td>12478.000000</td>\n",
       "      <td>1320.000000</td>\n",
       "      <td>1324.000000</td>\n",
       "      <td>...</td>\n",
       "      <td>1559.000000</td>\n",
       "      <td>1547.000000</td>\n",
       "      <td>-10.000000</td>\n",
       "      <td>0.000000</td>\n",
       "      <td>0.000000</td>\n",
       "      <td>0.000000</td>\n",
       "      <td>159.000000</td>\n",
       "      <td>149.000000</td>\n",
       "      <td>907.000000</td>\n",
       "      <td>NaN</td>\n",
       "    </tr>\n",
       "    <tr>\n",
       "      <th>75%</th>\n",
       "      <td>2016.0</td>\n",
       "      <td>3.000000</td>\n",
       "      <td>9.000000</td>\n",
       "      <td>23.000000</td>\n",
       "      <td>6.000000</td>\n",
       "      <td>2032.000000</td>\n",
       "      <td>13487.000000</td>\n",
       "      <td>13487.000000</td>\n",
       "      <td>1735.000000</td>\n",
       "      <td>1739.000000</td>\n",
       "      <td>...</td>\n",
       "      <td>1952.000000</td>\n",
       "      <td>1945.000000</td>\n",
       "      <td>1.000000</td>\n",
       "      <td>0.000000</td>\n",
       "      <td>0.000000</td>\n",
       "      <td>0.000000</td>\n",
       "      <td>255.000000</td>\n",
       "      <td>236.000000</td>\n",
       "      <td>1927.000000</td>\n",
       "      <td>NaN</td>\n",
       "    </tr>\n",
       "    <tr>\n",
       "      <th>max</th>\n",
       "      <td>2016.0</td>\n",
       "      <td>4.000000</td>\n",
       "      <td>12.000000</td>\n",
       "      <td>31.000000</td>\n",
       "      <td>7.000000</td>\n",
       "      <td>2853.000000</td>\n",
       "      <td>14747.000000</td>\n",
       "      <td>14747.000000</td>\n",
       "      <td>2359.000000</td>\n",
       "      <td>2400.000000</td>\n",
       "      <td>...</td>\n",
       "      <td>2359.000000</td>\n",
       "      <td>2400.000000</td>\n",
       "      <td>615.000000</td>\n",
       "      <td>1.000000</td>\n",
       "      <td>1.000000</td>\n",
       "      <td>1.000000</td>\n",
       "      <td>397.000000</td>\n",
       "      <td>428.000000</td>\n",
       "      <td>2422.000000</td>\n",
       "      <td>NaN</td>\n",
       "    </tr>\n",
       "  </tbody>\n",
       "</table>\n",
       "<p>8 rows × 22 columns</p>\n",
       "</div>"
      ],
      "text/plain": [
       "          YEAR       QUARTER         MONTH  DAY_OF_MONTH   DAY_OF_WEEK  \\\n",
       "count  11231.0  11231.000000  11231.000000  11231.000000  11231.000000   \n",
       "mean    2016.0      2.544475      6.628973     15.790758      3.960199   \n",
       "std        0.0      1.090701      3.354678      8.782056      1.995257   \n",
       "min     2016.0      1.000000      1.000000      1.000000      1.000000   \n",
       "25%     2016.0      2.000000      4.000000      8.000000      2.000000   \n",
       "50%     2016.0      3.000000      7.000000     16.000000      4.000000   \n",
       "75%     2016.0      3.000000      9.000000     23.000000      6.000000   \n",
       "max     2016.0      4.000000     12.000000     31.000000      7.000000   \n",
       "\n",
       "             FL_NUM  ORIGIN_AIRPORT_ID  DEST_AIRPORT_ID  CRS_DEP_TIME  \\\n",
       "count  11231.000000       11231.000000     11231.000000  11231.000000   \n",
       "mean    1334.325617       12334.516695     12302.274508   1320.798326   \n",
       "std      811.875227        1595.026510      1601.988550    490.737845   \n",
       "min        7.000000       10397.000000     10397.000000     10.000000   \n",
       "25%      624.000000       10397.000000     10397.000000    905.000000   \n",
       "50%     1267.000000       12478.000000     12478.000000   1320.000000   \n",
       "75%     2032.000000       13487.000000     13487.000000   1735.000000   \n",
       "max     2853.000000       14747.000000     14747.000000   2359.000000   \n",
       "\n",
       "           DEP_TIME  ...  CRS_ARR_TIME      ARR_TIME     ARR_DELAY  \\\n",
       "count  11124.000000  ...  11231.000000  11116.000000  11043.000000   \n",
       "mean    1327.189410  ...   1537.312795   1523.978499     -2.573123   \n",
       "std      500.306462  ...    502.512494    512.536041     39.232521   \n",
       "min        1.000000  ...      2.000000      1.000000    -67.000000   \n",
       "25%      905.000000  ...   1130.000000   1135.000000    -19.000000   \n",
       "50%     1324.000000  ...   1559.000000   1547.000000    -10.000000   \n",
       "75%     1739.000000  ...   1952.000000   1945.000000      1.000000   \n",
       "max     2400.000000  ...   2359.000000   2400.000000    615.000000   \n",
       "\n",
       "          ARR_DEL15     CANCELLED      DIVERTED  CRS_ELAPSED_TIME  \\\n",
       "count  11043.000000  11231.000000  11231.000000      11231.000000   \n",
       "mean       0.124513      0.010150      0.006589        190.652124   \n",
       "std        0.330181      0.100241      0.080908         78.386317   \n",
       "min        0.000000      0.000000      0.000000         93.000000   \n",
       "25%        0.000000      0.000000      0.000000        127.000000   \n",
       "50%        0.000000      0.000000      0.000000        159.000000   \n",
       "75%        0.000000      0.000000      0.000000        255.000000   \n",
       "max        1.000000      1.000000      1.000000        397.000000   \n",
       "\n",
       "       ACTUAL_ELAPSED_TIME      DISTANCE  Unnamed: 25  \n",
       "count         11043.000000  11231.000000          0.0  \n",
       "mean            179.661233   1161.031965          NaN  \n",
       "std              77.940399    643.683379          NaN  \n",
       "min              75.000000    509.000000          NaN  \n",
       "25%             117.000000    594.000000          NaN  \n",
       "50%             149.000000    907.000000          NaN  \n",
       "75%             236.000000   1927.000000          NaN  \n",
       "max             428.000000   2422.000000          NaN  \n",
       "\n",
       "[8 rows x 22 columns]"
      ]
     },
     "execution_count": 12,
     "metadata": {},
     "output_type": "execute_result"
    }
   ],
   "source": [
    "df.describe()"
   ]
  },
  {
   "cell_type": "markdown",
   "id": "86aba1e8",
   "metadata": {},
   "source": [
    "## Dropping unnecessary columns"
   ]
  },
  {
   "cell_type": "code",
   "execution_count": 13,
   "id": "945e2272",
   "metadata": {},
   "outputs": [
    {
     "data": {
      "text/html": [
       "<div>\n",
       "<style scoped>\n",
       "    .dataframe tbody tr th:only-of-type {\n",
       "        vertical-align: middle;\n",
       "    }\n",
       "\n",
       "    .dataframe tbody tr th {\n",
       "        vertical-align: top;\n",
       "    }\n",
       "\n",
       "    .dataframe thead th {\n",
       "        text-align: right;\n",
       "    }\n",
       "</style>\n",
       "<table border=\"1\" class=\"dataframe\">\n",
       "  <thead>\n",
       "    <tr style=\"text-align: right;\">\n",
       "      <th></th>\n",
       "      <th>FL_NUM</th>\n",
       "      <th>MONTH</th>\n",
       "      <th>DAY_OF_MONTH</th>\n",
       "      <th>DAY_OF_WEEK</th>\n",
       "      <th>ORIGIN</th>\n",
       "      <th>DEST</th>\n",
       "      <th>CRS_ARR_TIME</th>\n",
       "      <th>DEP_DEL15</th>\n",
       "      <th>ARR_DEL15</th>\n",
       "    </tr>\n",
       "  </thead>\n",
       "  <tbody>\n",
       "    <tr>\n",
       "      <th>0</th>\n",
       "      <td>1399</td>\n",
       "      <td>1</td>\n",
       "      <td>1</td>\n",
       "      <td>5</td>\n",
       "      <td>ATL</td>\n",
       "      <td>SEA</td>\n",
       "      <td>2143</td>\n",
       "      <td>0.0</td>\n",
       "      <td>0.0</td>\n",
       "    </tr>\n",
       "    <tr>\n",
       "      <th>1</th>\n",
       "      <td>1476</td>\n",
       "      <td>1</td>\n",
       "      <td>1</td>\n",
       "      <td>5</td>\n",
       "      <td>DTW</td>\n",
       "      <td>MSP</td>\n",
       "      <td>1435</td>\n",
       "      <td>0.0</td>\n",
       "      <td>0.0</td>\n",
       "    </tr>\n",
       "    <tr>\n",
       "      <th>2</th>\n",
       "      <td>1597</td>\n",
       "      <td>1</td>\n",
       "      <td>1</td>\n",
       "      <td>5</td>\n",
       "      <td>ATL</td>\n",
       "      <td>SEA</td>\n",
       "      <td>1215</td>\n",
       "      <td>0.0</td>\n",
       "      <td>0.0</td>\n",
       "    </tr>\n",
       "    <tr>\n",
       "      <th>3</th>\n",
       "      <td>1768</td>\n",
       "      <td>1</td>\n",
       "      <td>1</td>\n",
       "      <td>5</td>\n",
       "      <td>SEA</td>\n",
       "      <td>MSP</td>\n",
       "      <td>1335</td>\n",
       "      <td>0.0</td>\n",
       "      <td>0.0</td>\n",
       "    </tr>\n",
       "    <tr>\n",
       "      <th>4</th>\n",
       "      <td>1823</td>\n",
       "      <td>1</td>\n",
       "      <td>1</td>\n",
       "      <td>5</td>\n",
       "      <td>SEA</td>\n",
       "      <td>DTW</td>\n",
       "      <td>607</td>\n",
       "      <td>0.0</td>\n",
       "      <td>0.0</td>\n",
       "    </tr>\n",
       "  </tbody>\n",
       "</table>\n",
       "</div>"
      ],
      "text/plain": [
       "   FL_NUM  MONTH  DAY_OF_MONTH  DAY_OF_WEEK ORIGIN DEST  CRS_ARR_TIME  \\\n",
       "0    1399      1             1            5    ATL  SEA          2143   \n",
       "1    1476      1             1            5    DTW  MSP          1435   \n",
       "2    1597      1             1            5    ATL  SEA          1215   \n",
       "3    1768      1             1            5    SEA  MSP          1335   \n",
       "4    1823      1             1            5    SEA  DTW           607   \n",
       "\n",
       "   DEP_DEL15  ARR_DEL15  \n",
       "0        0.0        0.0  \n",
       "1        0.0        0.0  \n",
       "2        0.0        0.0  \n",
       "3        0.0        0.0  \n",
       "4        0.0        0.0  "
      ]
     },
     "execution_count": 13,
     "metadata": {},
     "output_type": "execute_result"
    }
   ],
   "source": [
    "df = df[['FL_NUM', 'MONTH', 'DAY_OF_MONTH', 'DAY_OF_WEEK', 'ORIGIN', 'DEST', 'CRS_ARR_TIME', 'DEP_DEL15', 'ARR_DEL15']]\n",
    "df.head()"
   ]
  },
  {
   "cell_type": "markdown",
   "id": "2eb41a04",
   "metadata": {},
   "source": [
    "## Handling Missing Values"
   ]
  },
  {
   "cell_type": "markdown",
   "id": "e5d19767",
   "metadata": {},
   "source": [
    "### Checking for null values"
   ]
  },
  {
   "cell_type": "code",
   "execution_count": 14,
   "id": "1379ef29",
   "metadata": {},
   "outputs": [
    {
     "data": {
      "text/plain": [
       "FL_NUM          False\n",
       "MONTH           False\n",
       "DAY_OF_MONTH    False\n",
       "DAY_OF_WEEK     False\n",
       "ORIGIN          False\n",
       "DEST            False\n",
       "CRS_ARR_TIME    False\n",
       "DEP_DEL15        True\n",
       "ARR_DEL15        True\n",
       "dtype: bool"
      ]
     },
     "execution_count": 14,
     "metadata": {},
     "output_type": "execute_result"
    }
   ],
   "source": [
    "df.isnull().any()"
   ]
  },
  {
   "cell_type": "markdown",
   "id": "4d567b58",
   "metadata": {},
   "source": [
    "### Replacing null values"
   ]
  },
  {
   "cell_type": "code",
   "execution_count": 15,
   "id": "bc87291a",
   "metadata": {},
   "outputs": [],
   "source": [
    "df.fillna(df['DEP_DEL15'].mode()[0], inplace=True)\n",
    "df.fillna(df['ARR_DEL15'].mode()[0], inplace=True)"
   ]
  },
  {
   "cell_type": "markdown",
   "id": "65943d6e",
   "metadata": {},
   "source": [
    "### Checking if the replacement is made"
   ]
  },
  {
   "cell_type": "code",
   "execution_count": 16,
   "id": "6e2ed230",
   "metadata": {},
   "outputs": [
    {
     "data": {
      "text/plain": [
       "FL_NUM          False\n",
       "MONTH           False\n",
       "DAY_OF_MONTH    False\n",
       "DAY_OF_WEEK     False\n",
       "ORIGIN          False\n",
       "DEST            False\n",
       "CRS_ARR_TIME    False\n",
       "DEP_DEL15       False\n",
       "ARR_DEL15       False\n",
       "dtype: bool"
      ]
     },
     "execution_count": 16,
     "metadata": {},
     "output_type": "execute_result"
    }
   ],
   "source": [
    "df.isnull().any()"
   ]
  },
  {
   "cell_type": "markdown",
   "id": "71566567",
   "metadata": {},
   "source": [
    "## Handling Outliers"
   ]
  },
  {
   "cell_type": "code",
   "execution_count": 17,
   "id": "dfea0d1f",
   "metadata": {},
   "outputs": [
    {
     "data": {
      "text/plain": [
       "<AxesSubplot:>"
      ]
     },
     "execution_count": 17,
     "metadata": {},
     "output_type": "execute_result"
    },
    {
     "data": {
      "image/png": "[encoded data removed]",
      "text/plain": [
       "<Figure size 360x432 with 1 Axes>"
      ]
     },
     "metadata": {
      "needs_background": "light"
     },
     "output_type": "display_data"
    }
   ],
   "source": [
    "fig, ax = plt.subplots(figsize=(5, 6))\n",
    "sb.boxplot(data=df['CRS_ARR_TIME'])"
   ]
  },
  {
   "cell_type": "markdown",
   "id": "c9083a1f",
   "metadata": {},
   "source": [
    "There are no outliers"
   ]
  },
  {
   "cell_type": "markdown",
   "id": "82a05e34",
   "metadata": {},
   "source": [
    "## Encoding"
   ]
  },
  {
   "cell_type": "markdown",
   "id": "8e1bc139",
   "metadata": {},
   "source": [
    "### One Hot Encoding"
   ]
  },
  {
   "cell_type": "code",
   "execution_count": 18,
   "id": "ccdfa98e",
   "metadata": {},
   "outputs": [
    {
     "data": {
      "text/html": [
       "<div>\n",
       "<style scoped>\n",
       "    .dataframe tbody tr th:only-of-type {\n",
       "        vertical-align: middle;\n",
       "    }\n",
       "\n",
       "    .dataframe tbody tr th {\n",
       "        vertical-align: top;\n",
       "    }\n",
       "\n",
       "    .dataframe thead th {\n",
       "        text-align: right;\n",
       "    }\n",
       "</style>\n",
       "<table border=\"1\" class=\"dataframe\">\n",
       "  <thead>\n",
       "    <tr style=\"text-align: right;\">\n",
       "      <th></th>\n",
       "      <th>FL_NUM</th>\n",
       "      <th>MONTH</th>\n",
       "      <th>DAY_OF_MONTH</th>\n",
       "      <th>DAY_OF_WEEK</th>\n",
       "      <th>CRS_ARR_TIME</th>\n",
       "      <th>DEP_DEL15</th>\n",
       "      <th>ARR_DEL15</th>\n",
       "      <th>ORIGIN_ATL</th>\n",
       "      <th>ORIGIN_DTW</th>\n",
       "      <th>ORIGIN_JFK</th>\n",
       "      <th>ORIGIN_MSP</th>\n",
       "      <th>ORIGIN_SEA</th>\n",
       "      <th>DEST_ATL</th>\n",
       "      <th>DEST_DTW</th>\n",
       "      <th>DEST_JFK</th>\n",
       "      <th>DEST_MSP</th>\n",
       "      <th>DEST_SEA</th>\n",
       "    </tr>\n",
       "  </thead>\n",
       "  <tbody>\n",
       "    <tr>\n",
       "      <th>0</th>\n",
       "      <td>1399</td>\n",
       "      <td>1</td>\n",
       "      <td>1</td>\n",
       "      <td>5</td>\n",
       "      <td>2143</td>\n",
       "      <td>0.0</td>\n",
       "      <td>0.0</td>\n",
       "      <td>1</td>\n",
       "      <td>0</td>\n",
       "      <td>0</td>\n",
       "      <td>0</td>\n",
       "      <td>0</td>\n",
       "      <td>0</td>\n",
       "      <td>0</td>\n",
       "      <td>0</td>\n",
       "      <td>0</td>\n",
       "      <td>1</td>\n",
       "    </tr>\n",
       "    <tr>\n",
       "      <th>1</th>\n",
       "      <td>1476</td>\n",
       "      <td>1</td>\n",
       "      <td>1</td>\n",
       "      <td>5</td>\n",
       "      <td>1435</td>\n",
       "      <td>0.0</td>\n",
       "      <td>0.0</td>\n",
       "      <td>0</td>\n",
       "      <td>1</td>\n",
       "      <td>0</td>\n",
       "      <td>0</td>\n",
       "      <td>0</td>\n",
       "      <td>0</td>\n",
       "      <td>0</td>\n",
       "      <td>0</td>\n",
       "      <td>1</td>\n",
       "      <td>0</td>\n",
       "    </tr>\n",
       "    <tr>\n",
       "      <th>2</th>\n",
       "      <td>1597</td>\n",
       "      <td>1</td>\n",
       "      <td>1</td>\n",
       "      <td>5</td>\n",
       "      <td>1215</td>\n",
       "      <td>0.0</td>\n",
       "      <td>0.0</td>\n",
       "      <td>1</td>\n",
       "      <td>0</td>\n",
       "      <td>0</td>\n",
       "      <td>0</td>\n",
       "      <td>0</td>\n",
       "      <td>0</td>\n",
       "      <td>0</td>\n",
       "      <td>0</td>\n",
       "      <td>0</td>\n",
       "      <td>1</td>\n",
       "    </tr>\n",
       "    <tr>\n",
       "      <th>3</th>\n",
       "      <td>1768</td>\n",
       "      <td>1</td>\n",
       "      <td>1</td>\n",
       "      <td>5</td>\n",
       "      <td>1335</td>\n",
       "      <td>0.0</td>\n",
       "      <td>0.0</td>\n",
       "      <td>0</td>\n",
       "      <td>0</td>\n",
       "      <td>0</td>\n",
       "      <td>0</td>\n",
       "      <td>1</td>\n",
       "      <td>0</td>\n",
       "      <td>0</td>\n",
       "      <td>0</td>\n",
       "      <td>1</td>\n",
       "      <td>0</td>\n",
       "    </tr>\n",
       "    <tr>\n",
       "      <th>4</th>\n",
       "      <td>1823</td>\n",
       "      <td>1</td>\n",
       "      <td>1</td>\n",
       "      <td>5</td>\n",
       "      <td>607</td>\n",
       "      <td>0.0</td>\n",
       "      <td>0.0</td>\n",
       "      <td>0</td>\n",
       "      <td>0</td>\n",
       "      <td>0</td>\n",
       "      <td>0</td>\n",
       "      <td>1</td>\n",
       "      <td>0</td>\n",
       "      <td>1</td>\n",
       "      <td>0</td>\n",
       "      <td>0</td>\n",
       "      <td>0</td>\n",
       "    </tr>\n",
       "  </tbody>\n",
       "</table>\n",
       "</div>"
      ],
      "text/plain": [
       "   FL_NUM  MONTH  DAY_OF_MONTH  DAY_OF_WEEK  CRS_ARR_TIME  DEP_DEL15  \\\n",
       "0    1399      1             1            5          2143        0.0   \n",
       "1    1476      1             1            5          1435        0.0   \n",
       "2    1597      1             1            5          1215        0.0   \n",
       "3    1768      1             1            5          1335        0.0   \n",
       "4    1823      1             1            5           607        0.0   \n",
       "\n",
       "   ARR_DEL15  ORIGIN_ATL  ORIGIN_DTW  ORIGIN_JFK  ORIGIN_MSP  ORIGIN_SEA  \\\n",
       "0        0.0           1           0           0           0           0   \n",
       "1        0.0           0           1           0           0           0   \n",
       "2        0.0           1           0           0           0           0   \n",
       "3        0.0           0           0           0           0           1   \n",
       "4        0.0           0           0           0           0           1   \n",
       "\n",
       "   DEST_ATL  DEST_DTW  DEST_JFK  DEST_MSP  DEST_SEA  \n",
       "0         0         0         0         0         1  \n",
       "1         0         0         0         1         0  \n",
       "2         0         0         0         0         1  \n",
       "3         0         0         0         1         0  \n",
       "4         0         1         0         0         0  "
      ]
     },
     "execution_count": 18,
     "metadata": {},
     "output_type": "execute_result"
    }
   ],
   "source": [
    "df = pd.get_dummies(df, columns=['ORIGIN', 'DEST'])\n",
    "df.head()"
   ]
  },
  {
   "cell_type": "code",
   "execution_count": 19,
   "id": "966b6d7e",
   "metadata": {},
   "outputs": [
    {
     "data": {
      "text/plain": [
       "Index(['FL_NUM', 'MONTH', 'DAY_OF_MONTH', 'DAY_OF_WEEK', 'CRS_ARR_TIME',\n",
       "       'DEP_DEL15', 'ARR_DEL15', 'ORIGIN_ATL', 'ORIGIN_DTW', 'ORIGIN_JFK',\n",
       "       'ORIGIN_MSP', 'ORIGIN_SEA', 'DEST_ATL', 'DEST_DTW', 'DEST_JFK',\n",
       "       'DEST_MSP', 'DEST_SEA'],\n",
       "      dtype='object')"
      ]
     },
     "execution_count": 19,
     "metadata": {},
     "output_type": "execute_result"
    }
   ],
   "source": [
    "df.columns"
   ]
  },
  {
   "cell_type": "markdown",
   "id": "85915ca9",
   "metadata": {},
   "source": [
    "## Splitting dataset into Independent and Dependent Variables"
   ]
  },
  {
   "cell_type": "code",
   "execution_count": 20,
   "id": "50a316ce",
   "metadata": {},
   "outputs": [],
   "source": [
    "X = df.drop(columns=['ARR_DEL15'])\n",
    "Y = df[['ARR_DEL15']]"
   ]
  },
  {
   "cell_type": "markdown",
   "id": "cf7940df",
   "metadata": {},
   "source": [
    "## Scaling the Independent Variables"
   ]
  },
  {
   "cell_type": "code",
   "execution_count": 21,
   "id": "d8694ff6",
   "metadata": {},
   "outputs": [
    {
     "data": {
      "text/html": [
       "<div>\n",
       "<style scoped>\n",
       "    .dataframe tbody tr th:only-of-type {\n",
       "        vertical-align: middle;\n",
       "    }\n",
       "\n",
       "    .dataframe tbody tr th {\n",
       "        vertical-align: top;\n",
       "    }\n",
       "\n",
       "    .dataframe thead th {\n",
       "        text-align: right;\n",
       "    }\n",
       "</style>\n",
       "<table border=\"1\" class=\"dataframe\">\n",
       "  <thead>\n",
       "    <tr style=\"text-align: right;\">\n",
       "      <th></th>\n",
       "      <th>FL_NUM</th>\n",
       "      <th>MONTH</th>\n",
       "      <th>DAY_OF_MONTH</th>\n",
       "      <th>DAY_OF_WEEK</th>\n",
       "      <th>CRS_ARR_TIME</th>\n",
       "      <th>DEP_DEL15</th>\n",
       "      <th>ORIGIN_ATL</th>\n",
       "      <th>ORIGIN_DTW</th>\n",
       "      <th>ORIGIN_JFK</th>\n",
       "      <th>ORIGIN_MSP</th>\n",
       "      <th>ORIGIN_SEA</th>\n",
       "      <th>DEST_ATL</th>\n",
       "      <th>DEST_DTW</th>\n",
       "      <th>DEST_JFK</th>\n",
       "      <th>DEST_MSP</th>\n",
       "      <th>DEST_SEA</th>\n",
       "    </tr>\n",
       "  </thead>\n",
       "  <tbody>\n",
       "    <tr>\n",
       "      <th>0</th>\n",
       "      <td>0.079664</td>\n",
       "      <td>-1.678022</td>\n",
       "      <td>-1.684277</td>\n",
       "      <td>0.521159</td>\n",
       "      <td>1.205371</td>\n",
       "      <td>-0.405955</td>\n",
       "      <td>1.619538</td>\n",
       "      <td>-0.493703</td>\n",
       "      <td>-0.373354</td>\n",
       "      <td>-0.540332</td>\n",
       "      <td>-0.468015</td>\n",
       "      <td>-0.634131</td>\n",
       "      <td>-0.495098</td>\n",
       "      <td>-0.363691</td>\n",
       "      <td>-0.534140</td>\n",
       "      <td>2.152300</td>\n",
       "    </tr>\n",
       "    <tr>\n",
       "      <th>1</th>\n",
       "      <td>0.174510</td>\n",
       "      <td>-1.678022</td>\n",
       "      <td>-1.684277</td>\n",
       "      <td>0.521159</td>\n",
       "      <td>-0.203612</td>\n",
       "      <td>-0.405955</td>\n",
       "      <td>-0.617460</td>\n",
       "      <td>2.025507</td>\n",
       "      <td>-0.373354</td>\n",
       "      <td>-0.540332</td>\n",
       "      <td>-0.468015</td>\n",
       "      <td>-0.634131</td>\n",
       "      <td>-0.495098</td>\n",
       "      <td>-0.363691</td>\n",
       "      <td>1.872168</td>\n",
       "      <td>-0.464619</td>\n",
       "    </tr>\n",
       "    <tr>\n",
       "      <th>2</th>\n",
       "      <td>0.323555</td>\n",
       "      <td>-1.678022</td>\n",
       "      <td>-1.684277</td>\n",
       "      <td>0.521159</td>\n",
       "      <td>-0.641431</td>\n",
       "      <td>-0.405955</td>\n",
       "      <td>1.619538</td>\n",
       "      <td>-0.493703</td>\n",
       "      <td>-0.373354</td>\n",
       "      <td>-0.540332</td>\n",
       "      <td>-0.468015</td>\n",
       "      <td>-0.634131</td>\n",
       "      <td>-0.495098</td>\n",
       "      <td>-0.363691</td>\n",
       "      <td>-0.534140</td>\n",
       "      <td>2.152300</td>\n",
       "    </tr>\n",
       "    <tr>\n",
       "      <th>3</th>\n",
       "      <td>0.534188</td>\n",
       "      <td>-1.678022</td>\n",
       "      <td>-1.684277</td>\n",
       "      <td>0.521159</td>\n",
       "      <td>-0.402620</td>\n",
       "      <td>-0.405955</td>\n",
       "      <td>-0.617460</td>\n",
       "      <td>-0.493703</td>\n",
       "      <td>-0.373354</td>\n",
       "      <td>-0.540332</td>\n",
       "      <td>2.136682</td>\n",
       "      <td>-0.634131</td>\n",
       "      <td>-0.495098</td>\n",
       "      <td>-0.363691</td>\n",
       "      <td>1.872168</td>\n",
       "      <td>-0.464619</td>\n",
       "    </tr>\n",
       "    <tr>\n",
       "      <th>4</th>\n",
       "      <td>0.601935</td>\n",
       "      <td>-1.678022</td>\n",
       "      <td>-1.684277</td>\n",
       "      <td>0.521159</td>\n",
       "      <td>-1.851405</td>\n",
       "      <td>-0.405955</td>\n",
       "      <td>-0.617460</td>\n",
       "      <td>-0.493703</td>\n",
       "      <td>-0.373354</td>\n",
       "      <td>-0.540332</td>\n",
       "      <td>2.136682</td>\n",
       "      <td>-0.634131</td>\n",
       "      <td>2.019802</td>\n",
       "      <td>-0.363691</td>\n",
       "      <td>-0.534140</td>\n",
       "      <td>-0.464619</td>\n",
       "    </tr>\n",
       "  </tbody>\n",
       "</table>\n",
       "</div>"
      ],
      "text/plain": [
       "     FL_NUM     MONTH  DAY_OF_MONTH  DAY_OF_WEEK  CRS_ARR_TIME  DEP_DEL15  \\\n",
       "0  0.079664 -1.678022     -1.684277     0.521159      1.205371  -0.405955   \n",
       "1  0.174510 -1.678022     -1.684277     0.521159     -0.203612  -0.405955   \n",
       "2  0.323555 -1.678022     -1.684277     0.521159     -0.641431  -0.405955   \n",
       "3  0.534188 -1.678022     -1.684277     0.521159     -0.402620  -0.405955   \n",
       "4  0.601935 -1.678022     -1.684277     0.521159     -1.851405  -0.405955   \n",
       "\n",
       "   ORIGIN_ATL  ORIGIN_DTW  ORIGIN_JFK  ORIGIN_MSP  ORIGIN_SEA  DEST_ATL  \\\n",
       "0    1.619538   -0.493703   -0.373354   -0.540332   -0.468015 -0.634131   \n",
       "1   -0.617460    2.025507   -0.373354   -0.540332   -0.468015 -0.634131   \n",
       "2    1.619538   -0.493703   -0.373354   -0.540332   -0.468015 -0.634131   \n",
       "3   -0.617460   -0.493703   -0.373354   -0.540332    2.136682 -0.634131   \n",
       "4   -0.617460   -0.493703   -0.373354   -0.540332    2.136682 -0.634131   \n",
       "\n",
       "   DEST_DTW  DEST_JFK  DEST_MSP  DEST_SEA  \n",
       "0 -0.495098 -0.363691 -0.534140  2.152300  \n",
       "1 -0.495098 -0.363691  1.872168 -0.464619  \n",
       "2 -0.495098 -0.363691 -0.534140  2.152300  \n",
       "3 -0.495098 -0.363691  1.872168 -0.464619  \n",
       "4  2.019802 -0.363691 -0.534140 -0.464619  "
      ]
     },
     "execution_count": 21,
     "metadata": {},
     "output_type": "execute_result"
    }
   ],
   "source": [
    "X = pd.DataFrame(scale(X), columns=X.columns)\n",
    "X.head()"
   ]
  },
  {
   "cell_type": "markdown",
   "id": "b165b4af",
   "metadata": {},
   "source": [
    "## Converting the Independent and Dependent Variables to 1D Arrays"
   ]
  },
  {
   "cell_type": "code",
   "execution_count": 22,
   "id": "b51cabed",
   "metadata": {},
   "outputs": [],
   "source": [
    "X = X.values\n",
    "Y = Y.values"
   ]
  },
  {
   "cell_type": "markdown",
   "id": "3dec6674",
   "metadata": {},
   "source": [
    "## Splitting dataset into Train and Test datasets"
   ]
  },
  {
   "cell_type": "code",
   "execution_count": 23,
   "id": "3b5c3e8d",
   "metadata": {},
   "outputs": [],
   "source": [
    "X_train, X_test, Y_train, Y_test = train_test_split(X, Y, test_size=0.2)"
   ]
  },
  {
   "cell_type": "code",
   "execution_count": 24,
   "id": "a9b3e820",
   "metadata": {},
   "outputs": [
    {
     "data": {
      "text/plain": [
       "((8984, 16), (2247, 16), (8984, 1), (2247, 1))"
      ]
     },
     "execution_count": 24,
     "metadata": {},
     "output_type": "execute_result"
    }
   ],
   "source": [
    "X_train.shape, X_test.shape, Y_train.shape, Y_test.shape"
   ]
  },
  {
   "cell_type": "markdown",
   "id": "95fc1c70",
   "metadata": {},
   "source": [
    "## Building the Machine Learning Models"
   ]
  },
  {
   "cell_type": "markdown",
   "id": "149e9b31",
   "metadata": {},
   "source": [
    "### Logistic Regression"
   ]
  },
  {
   "cell_type": "code",
   "execution_count": 25,
   "id": "daa44c2f",
   "metadata": {},
   "outputs": [
    {
     "data": {
      "text/html": [
       "<style>#sk-container-id-1 {color: black;background-color: white;}#sk-container-id-1 pre{padding: 0;}#sk-container-id-1 div.sk-toggleable {background-color: white;}#sk-container-id-1 label.sk-toggleable__label {cursor: pointer;display: block;width: 100%;margin-bottom: 0;padding: 0.3em;box-sizing: border-box;text-align: center;}#sk-container-id-1 label.sk-toggleable__label-arrow:before {content: \"▸\";float: left;margin-right: 0.25em;color: #696969;}#sk-container-id-1 label.sk-toggleable__label-arrow:hover:before {color: black;}#sk-container-id-1 div.sk-estimator:hover label.sk-toggleable__label-arrow:before {color: black;}#sk-container-id-1 div.sk-toggleable__content {max-height: 0;max-width: 0;overflow: hidden;text-align: left;background-color: #f0f8ff;}#sk-container-id-1 div.sk-toggleable__content pre {margin: 0.2em;color: black;border-radius: 0.25em;background-color: #f0f8ff;}#sk-container-id-1 input.sk-toggleable__control:checked~div.sk-toggleable__content {max-height: 200px;max-width: 100%;overflow: auto;}#sk-container-id-1 input.sk-toggleable__control:checked~label.sk-toggleable__label-arrow:before {content: \"▾\";}#sk-container-id-1 div.sk-estimator input.sk-toggleable__control:checked~label.sk-toggleable__label {background-color: #d4ebff;}#sk-container-id-1 div.sk-label input.sk-toggleable__control:checked~label.sk-toggleable__label {background-color: #d4ebff;}#sk-container-id-1 input.sk-hidden--visually {border: 0;clip: rect(1px 1px 1px 1px);clip: rect(1px, 1px, 1px, 1px);height: 1px;margin: -1px;overflow: hidden;padding: 0;position: absolute;width: 1px;}#sk-container-id-1 div.sk-estimator {font-family: monospace;background-color: #f0f8ff;border: 1px dotted black;border-radius: 0.25em;box-sizing: border-box;margin-bottom: 0.5em;}#sk-container-id-1 div.sk-estimator:hover {background-color: #d4ebff;}#sk-container-id-1 div.sk-parallel-item::after {content: \"\";width: 100%;border-bottom: 1px solid gray;flex-grow: 1;}#sk-container-id-1 div.sk-label:hover label.sk-toggleable__label {background-color: #d4ebff;}#sk-container-id-1 div.sk-serial::before {content: \"\";position: absolute;border-left: 1px solid gray;box-sizing: border-box;top: 0;bottom: 0;left: 50%;z-index: 0;}#sk-container-id-1 div.sk-serial {display: flex;flex-direction: column;align-items: center;background-color: white;padding-right: 0.2em;padding-left: 0.2em;position: relative;}#sk-container-id-1 div.sk-item {position: relative;z-index: 1;}#sk-container-id-1 div.sk-parallel {display: flex;align-items: stretch;justify-content: center;background-color: white;position: relative;}#sk-container-id-1 div.sk-item::before, #sk-container-id-1 div.sk-parallel-item::before {content: \"\";position: absolute;border-left: 1px solid gray;box-sizing: border-box;top: 0;bottom: 0;left: 50%;z-index: -1;}#sk-container-id-1 div.sk-parallel-item {display: flex;flex-direction: column;z-index: 1;position: relative;background-color: white;}#sk-container-id-1 div.sk-parallel-item:first-child::after {align-self: flex-end;width: 50%;}#sk-container-id-1 div.sk-parallel-item:last-child::after {align-self: flex-start;width: 50%;}#sk-container-id-1 div.sk-parallel-item:only-child::after {width: 0;}#sk-container-id-1 div.sk-dashed-wrapped {border: 1px dashed gray;margin: 0 0.4em 0.5em 0.4em;box-sizing: border-box;padding-bottom: 0.4em;background-color: white;}#sk-container-id-1 div.sk-label label {font-family: monospace;font-weight: bold;display: inline-block;line-height: 1.2em;}#sk-container-id-1 div.sk-label-container {text-align: center;}#sk-container-id-1 div.sk-container {/* jupyter's `normalize.less` sets `[hidden] { display: none; }` but bootstrap.min.css set `[hidden] { display: none !important; }` so we also need the `!important` here to be able to override the default hidden behavior on the sphinx rendered scikit-learn.org. See: https://github.com/scikit-learn/scikit-learn/issues/21755 */display: inline-block !important;position: relative;}#sk-container-id-1 div.sk-text-repr-fallback {display: none;}</style><div id=\"sk-container-id-1\" class=\"sk-top-container\"><div class=\"sk-text-repr-fallback\"><pre>LogisticRegression()</pre><b>In a Jupyter environment, please rerun this cell to show the HTML representation or trust the notebook. <br />On GitHub, the HTML representation is unable to render, please try loading this page with nbviewer.org.</b></div><div class=\"sk-container\" hidden><div class=\"sk-item\"><div class=\"sk-estimator sk-toggleable\"><input class=\"sk-toggleable__control sk-hidden--visually\" id=\"sk-estimator-id-1\" type=\"checkbox\" checked><label for=\"sk-estimator-id-1\" class=\"sk-toggleable__label sk-toggleable__label-arrow\">LogisticRegression</label><div class=\"sk-toggleable__content\"><pre>LogisticRegression()</pre></div></div></div></div></div>"
      ],
      "text/plain": [
       "LogisticRegression()"
      ]
     },
     "execution_count": 25,
     "metadata": {},
     "output_type": "execute_result"
    }
   ],
   "source": [
    "from sklearn.linear_model import LogisticRegression\n",
    "log_reg = LogisticRegression()\n",
    "log_reg.fit(X_train, Y_train.ravel())"
   ]
  },
  {
   "cell_type": "markdown",
   "id": "8f72ca42",
   "metadata": {},
   "source": [
    "### Support Vector Machine (Classifier)"
   ]
  },
  {
   "cell_type": "code",
   "execution_count": 26,
   "id": "619fac2e",
   "metadata": {},
   "outputs": [
    {
     "data": {
      "text/html": [
       "<style>#sk-container-id-2 {color: black;background-color: white;}#sk-container-id-2 pre{padding: 0;}#sk-container-id-2 div.sk-toggleable {background-color: white;}#sk-container-id-2 label.sk-toggleable__label {cursor: pointer;display: block;width: 100%;margin-bottom: 0;padding: 0.3em;box-sizing: border-box;text-align: center;}#sk-container-id-2 label.sk-toggleable__label-arrow:before {content: \"▸\";float: left;margin-right: 0.25em;color: #696969;}#sk-container-id-2 label.sk-toggleable__label-arrow:hover:before {color: black;}#sk-container-id-2 div.sk-estimator:hover label.sk-toggleable__label-arrow:before {color: black;}#sk-container-id-2 div.sk-toggleable__content {max-height: 0;max-width: 0;overflow: hidden;text-align: left;background-color: #f0f8ff;}#sk-container-id-2 div.sk-toggleable__content pre {margin: 0.2em;color: black;border-radius: 0.25em;background-color: #f0f8ff;}#sk-container-id-2 input.sk-toggleable__control:checked~div.sk-toggleable__content {max-height: 200px;max-width: 100%;overflow: auto;}#sk-container-id-2 input.sk-toggleable__control:checked~label.sk-toggleable__label-arrow:before {content: \"▾\";}#sk-container-id-2 div.sk-estimator input.sk-toggleable__control:checked~label.sk-toggleable__label {background-color: #d4ebff;}#sk-container-id-2 div.sk-label input.sk-toggleable__control:checked~label.sk-toggleable__label {background-color: #d4ebff;}#sk-container-id-2 input.sk-hidden--visually {border: 0;clip: rect(1px 1px 1px 1px);clip: rect(1px, 1px, 1px, 1px);height: 1px;margin: -1px;overflow: hidden;padding: 0;position: absolute;width: 1px;}#sk-container-id-2 div.sk-estimator {font-family: monospace;background-color: #f0f8ff;border: 1px dotted black;border-radius: 0.25em;box-sizing: border-box;margin-bottom: 0.5em;}#sk-container-id-2 div.sk-estimator:hover {background-color: #d4ebff;}#sk-container-id-2 div.sk-parallel-item::after {content: \"\";width: 100%;border-bottom: 1px solid gray;flex-grow: 1;}#sk-container-id-2 div.sk-label:hover label.sk-toggleable__label {background-color: #d4ebff;}#sk-container-id-2 div.sk-serial::before {content: \"\";position: absolute;border-left: 1px solid gray;box-sizing: border-box;top: 0;bottom: 0;left: 50%;z-index: 0;}#sk-container-id-2 div.sk-serial {display: flex;flex-direction: column;align-items: center;background-color: white;padding-right: 0.2em;padding-left: 0.2em;position: relative;}#sk-container-id-2 div.sk-item {position: relative;z-index: 1;}#sk-container-id-2 div.sk-parallel {display: flex;align-items: stretch;justify-content: center;background-color: white;position: relative;}#sk-container-id-2 div.sk-item::before, #sk-container-id-2 div.sk-parallel-item::before {content: \"\";position: absolute;border-left: 1px solid gray;box-sizing: border-box;top: 0;bottom: 0;left: 50%;z-index: -1;}#sk-container-id-2 div.sk-parallel-item {display: flex;flex-direction: column;z-index: 1;position: relative;background-color: white;}#sk-container-id-2 div.sk-parallel-item:first-child::after {align-self: flex-end;width: 50%;}#sk-container-id-2 div.sk-parallel-item:last-child::after {align-self: flex-start;width: 50%;}#sk-container-id-2 div.sk-parallel-item:only-child::after {width: 0;}#sk-container-id-2 div.sk-dashed-wrapped {border: 1px dashed gray;margin: 0 0.4em 0.5em 0.4em;box-sizing: border-box;padding-bottom: 0.4em;background-color: white;}#sk-container-id-2 div.sk-label label {font-family: monospace;font-weight: bold;display: inline-block;line-height: 1.2em;}#sk-container-id-2 div.sk-label-container {text-align: center;}#sk-container-id-2 div.sk-container {/* jupyter's `normalize.less` sets `[hidden] { display: none; }` but bootstrap.min.css set `[hidden] { display: none !important; }` so we also need the `!important` here to be able to override the default hidden behavior on the sphinx rendered scikit-learn.org. See: https://github.com/scikit-learn/scikit-learn/issues/21755 */display: inline-block !important;position: relative;}#sk-container-id-2 div.sk-text-repr-fallback {display: none;}</style><div id=\"sk-container-id-2\" class=\"sk-top-container\"><div class=\"sk-text-repr-fallback\"><pre>SVC()</pre><b>In a Jupyter environment, please rerun this cell to show the HTML representation or trust the notebook. <br />On GitHub, the HTML representation is unable to render, please try loading this page with nbviewer.org.</b></div><div class=\"sk-container\" hidden><div class=\"sk-item\"><div class=\"sk-estimator sk-toggleable\"><input class=\"sk-toggleable__control sk-hidden--visually\" id=\"sk-estimator-id-2\" type=\"checkbox\" checked><label for=\"sk-estimator-id-2\" class=\"sk-toggleable__label sk-toggleable__label-arrow\">SVC</label><div class=\"sk-toggleable__content\"><pre>SVC()</pre></div></div></div></div></div>"
      ],
      "text/plain": [
       "SVC()"
      ]
     },
     "execution_count": 26,
     "metadata": {},
     "output_type": "execute_result"
    }
   ],
   "source": [
    "from sklearn.svm import SVC\n",
    "svc = SVC()\n",
    "svc.fit(X_train, Y_train.ravel())"
   ]
  },
  {
   "cell_type": "markdown",
   "id": "ec235b33",
   "metadata": {},
   "source": [
    "### KNN Classifier"
   ]
  },
  {
   "cell_type": "code",
   "execution_count": 27,
   "id": "4b5b3135",
   "metadata": {},
   "outputs": [
    {
     "data": {
      "text/html": [
       "<style>#sk-container-id-3 {color: black;background-color: white;}#sk-container-id-3 pre{padding: 0;}#sk-container-id-3 div.sk-toggleable {background-color: white;}#sk-container-id-3 label.sk-toggleable__label {cursor: pointer;display: block;width: 100%;margin-bottom: 0;padding: 0.3em;box-sizing: border-box;text-align: center;}#sk-container-id-3 label.sk-toggleable__label-arrow:before {content: \"▸\";float: left;margin-right: 0.25em;color: #696969;}#sk-container-id-3 label.sk-toggleable__label-arrow:hover:before {color: black;}#sk-container-id-3 div.sk-estimator:hover label.sk-toggleable__label-arrow:before {color: black;}#sk-container-id-3 div.sk-toggleable__content {max-height: 0;max-width: 0;overflow: hidden;text-align: left;background-color: #f0f8ff;}#sk-container-id-3 div.sk-toggleable__content pre {margin: 0.2em;color: black;border-radius: 0.25em;background-color: #f0f8ff;}#sk-container-id-3 input.sk-toggleable__control:checked~div.sk-toggleable__content {max-height: 200px;max-width: 100%;overflow: auto;}#sk-container-id-3 input.sk-toggleable__control:checked~label.sk-toggleable__label-arrow:before {content: \"▾\";}#sk-container-id-3 div.sk-estimator input.sk-toggleable__control:checked~label.sk-toggleable__label {background-color: #d4ebff;}#sk-container-id-3 div.sk-label input.sk-toggleable__control:checked~label.sk-toggleable__label {background-color: #d4ebff;}#sk-container-id-3 input.sk-hidden--visually {border: 0;clip: rect(1px 1px 1px 1px);clip: rect(1px, 1px, 1px, 1px);height: 1px;margin: -1px;overflow: hidden;padding: 0;position: absolute;width: 1px;}#sk-container-id-3 div.sk-estimator {font-family: monospace;background-color: #f0f8ff;border: 1px dotted black;border-radius: 0.25em;box-sizing: border-box;margin-bottom: 0.5em;}#sk-container-id-3 div.sk-estimator:hover {background-color: #d4ebff;}#sk-container-id-3 div.sk-parallel-item::after {content: \"\";width: 100%;border-bottom: 1px solid gray;flex-grow: 1;}#sk-container-id-3 div.sk-label:hover label.sk-toggleable__label {background-color: #d4ebff;}#sk-container-id-3 div.sk-serial::before {content: \"\";position: absolute;border-left: 1px solid gray;box-sizing: border-box;top: 0;bottom: 0;left: 50%;z-index: 0;}#sk-container-id-3 div.sk-serial {display: flex;flex-direction: column;align-items: center;background-color: white;padding-right: 0.2em;padding-left: 0.2em;position: relative;}#sk-container-id-3 div.sk-item {position: relative;z-index: 1;}#sk-container-id-3 div.sk-parallel {display: flex;align-items: stretch;justify-content: center;background-color: white;position: relative;}#sk-container-id-3 div.sk-item::before, #sk-container-id-3 div.sk-parallel-item::before {content: \"\";position: absolute;border-left: 1px solid gray;box-sizing: border-box;top: 0;bottom: 0;left: 50%;z-index: -1;}#sk-container-id-3 div.sk-parallel-item {display: flex;flex-direction: column;z-index: 1;position: relative;background-color: white;}#sk-container-id-3 div.sk-parallel-item:first-child::after {align-self: flex-end;width: 50%;}#sk-container-id-3 div.sk-parallel-item:last-child::after {align-self: flex-start;width: 50%;}#sk-container-id-3 div.sk-parallel-item:only-child::after {width: 0;}#sk-container-id-3 div.sk-dashed-wrapped {border: 1px dashed gray;margin: 0 0.4em 0.5em 0.4em;box-sizing: border-box;padding-bottom: 0.4em;background-color: white;}#sk-container-id-3 div.sk-label label {font-family: monospace;font-weight: bold;display: inline-block;line-height: 1.2em;}#sk-container-id-3 div.sk-label-container {text-align: center;}#sk-container-id-3 div.sk-container {/* jupyter's `normalize.less` sets `[hidden] { display: none; }` but bootstrap.min.css set `[hidden] { display: none !important; }` so we also need the `!important` here to be able to override the default hidden behavior on the sphinx rendered scikit-learn.org. See: https://github.com/scikit-learn/scikit-learn/issues/21755 */display: inline-block !important;position: relative;}#sk-container-id-3 div.sk-text-repr-fallback {display: none;}</style><div id=\"sk-container-id-3\" class=\"sk-top-container\"><div class=\"sk-text-repr-fallback\"><pre>KNeighborsClassifier()</pre><b>In a Jupyter environment, please rerun this cell to show the HTML representation or trust the notebook. <br />On GitHub, the HTML representation is unable to render, please try loading this page with nbviewer.org.</b></div><div class=\"sk-container\" hidden><div class=\"sk-item\"><div class=\"sk-estimator sk-toggleable\"><input class=\"sk-toggleable__control sk-hidden--visually\" id=\"sk-estimator-id-3\" type=\"checkbox\" checked><label for=\"sk-estimator-id-3\" class=\"sk-toggleable__label sk-toggleable__label-arrow\">KNeighborsClassifier</label><div class=\"sk-toggleable__content\"><pre>KNeighborsClassifier()</pre></div></div></div></div></div>"
      ],
      "text/plain": [
       "KNeighborsClassifier()"
      ]
     },
     "execution_count": 27,
     "metadata": {},
     "output_type": "execute_result"
    }
   ],
   "source": [
    "from sklearn.neighbors import KNeighborsClassifier\n",
    "knn = KNeighborsClassifier()\n",
    "knn.fit(X_train, Y_train.ravel())"
   ]
  },
  {
   "cell_type": "markdown",
   "id": "d68ef1c9",
   "metadata": {},
   "source": [
    "### Random Forest Classifier"
   ]
  },
  {
   "cell_type": "code",
   "execution_count": 28,
   "id": "2857cc6d",
   "metadata": {},
   "outputs": [
    {
     "data": {
      "text/html": [
       "<style>#sk-container-id-4 {color: black;background-color: white;}#sk-container-id-4 pre{padding: 0;}#sk-container-id-4 div.sk-toggleable {background-color: white;}#sk-container-id-4 label.sk-toggleable__label {cursor: pointer;display: block;width: 100%;margin-bottom: 0;padding: 0.3em;box-sizing: border-box;text-align: center;}#sk-container-id-4 label.sk-toggleable__label-arrow:before {content: \"▸\";float: left;margin-right: 0.25em;color: #696969;}#sk-container-id-4 label.sk-toggleable__label-arrow:hover:before {color: black;}#sk-container-id-4 div.sk-estimator:hover label.sk-toggleable__label-arrow:before {color: black;}#sk-container-id-4 div.sk-toggleable__content {max-height: 0;max-width: 0;overflow: hidden;text-align: left;background-color: #f0f8ff;}#sk-container-id-4 div.sk-toggleable__content pre {margin: 0.2em;color: black;border-radius: 0.25em;background-color: #f0f8ff;}#sk-container-id-4 input.sk-toggleable__control:checked~div.sk-toggleable__content {max-height: 200px;max-width: 100%;overflow: auto;}#sk-container-id-4 input.sk-toggleable__control:checked~label.sk-toggleable__label-arrow:before {content: \"▾\";}#sk-container-id-4 div.sk-estimator input.sk-toggleable__control:checked~label.sk-toggleable__label {background-color: #d4ebff;}#sk-container-id-4 div.sk-label input.sk-toggleable__control:checked~label.sk-toggleable__label {background-color: #d4ebff;}#sk-container-id-4 input.sk-hidden--visually {border: 0;clip: rect(1px 1px 1px 1px);clip: rect(1px, 1px, 1px, 1px);height: 1px;margin: -1px;overflow: hidden;padding: 0;position: absolute;width: 1px;}#sk-container-id-4 div.sk-estimator {font-family: monospace;background-color: #f0f8ff;border: 1px dotted black;border-radius: 0.25em;box-sizing: border-box;margin-bottom: 0.5em;}#sk-container-id-4 div.sk-estimator:hover {background-color: #d4ebff;}#sk-container-id-4 div.sk-parallel-item::after {content: \"\";width: 100%;border-bottom: 1px solid gray;flex-grow: 1;}#sk-container-id-4 div.sk-label:hover label.sk-toggleable__label {background-color: #d4ebff;}#sk-container-id-4 div.sk-serial::before {content: \"\";position: absolute;border-left: 1px solid gray;box-sizing: border-box;top: 0;bottom: 0;left: 50%;z-index: 0;}#sk-container-id-4 div.sk-serial {display: flex;flex-direction: column;align-items: center;background-color: white;padding-right: 0.2em;padding-left: 0.2em;position: relative;}#sk-container-id-4 div.sk-item {position: relative;z-index: 1;}#sk-container-id-4 div.sk-parallel {display: flex;align-items: stretch;justify-content: center;background-color: white;position: relative;}#sk-container-id-4 div.sk-item::before, #sk-container-id-4 div.sk-parallel-item::before {content: \"\";position: absolute;border-left: 1px solid gray;box-sizing: border-box;top: 0;bottom: 0;left: 50%;z-index: -1;}#sk-container-id-4 div.sk-parallel-item {display: flex;flex-direction: column;z-index: 1;position: relative;background-color: white;}#sk-container-id-4 div.sk-parallel-item:first-child::after {align-self: flex-end;width: 50%;}#sk-container-id-4 div.sk-parallel-item:last-child::after {align-self: flex-start;width: 50%;}#sk-container-id-4 div.sk-parallel-item:only-child::after {width: 0;}#sk-container-id-4 div.sk-dashed-wrapped {border: 1px dashed gray;margin: 0 0.4em 0.5em 0.4em;box-sizing: border-box;padding-bottom: 0.4em;background-color: white;}#sk-container-id-4 div.sk-label label {font-family: monospace;font-weight: bold;display: inline-block;line-height: 1.2em;}#sk-container-id-4 div.sk-label-container {text-align: center;}#sk-container-id-4 div.sk-container {/* jupyter's `normalize.less` sets `[hidden] { display: none; }` but bootstrap.min.css set `[hidden] { display: none !important; }` so we also need the `!important` here to be able to override the default hidden behavior on the sphinx rendered scikit-learn.org. See: https://github.com/scikit-learn/scikit-learn/issues/21755 */display: inline-block !important;position: relative;}#sk-container-id-4 div.sk-text-repr-fallback {display: none;}</style><div id=\"sk-container-id-4\" class=\"sk-top-container\"><div class=\"sk-text-repr-fallback\"><pre>RandomForestClassifier(max_depth=3, n_estimators=15)</pre><b>In a Jupyter environment, please rerun this cell to show the HTML representation or trust the notebook. <br />On GitHub, the HTML representation is unable to render, please try loading this page with nbviewer.org.</b></div><div class=\"sk-container\" hidden><div class=\"sk-item\"><div class=\"sk-estimator sk-toggleable\"><input class=\"sk-toggleable__control sk-hidden--visually\" id=\"sk-estimator-id-4\" type=\"checkbox\" checked><label for=\"sk-estimator-id-4\" class=\"sk-toggleable__label sk-toggleable__label-arrow\">RandomForestClassifier</label><div class=\"sk-toggleable__content\"><pre>RandomForestClassifier(max_depth=3, n_estimators=15)</pre></div></div></div></div></div>"
      ],
      "text/plain": [
       "RandomForestClassifier(max_depth=3, n_estimators=15)"
      ]
     },
     "execution_count": 28,
     "metadata": {},
     "output_type": "execute_result"
    }
   ],
   "source": [
    "from sklearn.ensemble import RandomForestClassifier\n",
    "rf = RandomForestClassifier(n_estimators=15, max_depth=3)\n",
    "rf.fit(X_train, Y_train.ravel())"
   ]
  },
  {
   "cell_type": "markdown",
   "id": "ac214585",
   "metadata": {},
   "source": [
    "## Testing the Models"
   ]
  },
  {
   "cell_type": "markdown",
   "id": "b969e06a",
   "metadata": {},
   "source": [
    "### Logistic Regression"
   ]
  },
  {
   "cell_type": "code",
   "execution_count": 29,
   "id": "ed0d6b93",
   "metadata": {},
   "outputs": [],
   "source": [
    "Y_pred_log_train = log_reg.predict(X_train)\n",
    "Y_pred_log_test = log_reg.predict(X_test)"
   ]
  },
  {
   "cell_type": "code",
   "execution_count": 30,
   "id": "4183908f",
   "metadata": {},
   "outputs": [
    {
     "data": {
      "text/plain": [
       "0.0    7756\n",
       "1.0    1228\n",
       "dtype: int64"
      ]
     },
     "execution_count": 30,
     "metadata": {},
     "output_type": "execute_result"
    }
   ],
   "source": [
    "pd.DataFrame(Y_pred_log_train).value_counts()"
   ]
  },
  {
   "cell_type": "code",
   "execution_count": 31,
   "id": "baafb8a7",
   "metadata": {},
   "outputs": [
    {
     "data": {
      "text/plain": [
       "0.0    1944\n",
       "1.0     303\n",
       "dtype: int64"
      ]
     },
     "execution_count": 31,
     "metadata": {},
     "output_type": "execute_result"
    }
   ],
   "source": [
    "pd.DataFrame(Y_pred_log_test).value_counts()"
   ]
  },
  {
   "cell_type": "markdown",
   "id": "82310b1d",
   "metadata": {},
   "source": [
    "### Support Vector Machine (Classifier)"
   ]
  },
  {
   "cell_type": "code",
   "execution_count": 32,
   "id": "f152a783",
   "metadata": {},
   "outputs": [],
   "source": [
    "Y_pred_svc_train = svc.predict(X_train)\n",
    "Y_pred_svc_test = svc.predict(X_test)"
   ]
  },
  {
   "cell_type": "code",
   "execution_count": 33,
   "id": "5cd889d6",
   "metadata": {},
   "outputs": [
    {
     "data": {
      "text/plain": [
       "0.0    7761\n",
       "1.0    1223\n",
       "dtype: int64"
      ]
     },
     "execution_count": 33,
     "metadata": {},
     "output_type": "execute_result"
    }
   ],
   "source": [
    "pd.DataFrame(Y_pred_svc_train).value_counts()"
   ]
  },
  {
   "cell_type": "code",
   "execution_count": 34,
   "id": "b501cec3",
   "metadata": {},
   "outputs": [
    {
     "data": {
      "text/plain": [
       "0.0    1948\n",
       "1.0     299\n",
       "dtype: int64"
      ]
     },
     "execution_count": 34,
     "metadata": {},
     "output_type": "execute_result"
    }
   ],
   "source": [
    "pd.DataFrame(Y_pred_svc_test).value_counts()"
   ]
  },
  {
   "cell_type": "markdown",
   "id": "8fef8d08",
   "metadata": {},
   "source": [
    "### KNN Classifier"
   ]
  },
  {
   "cell_type": "code",
   "execution_count": 35,
   "id": "53a368b7",
   "metadata": {},
   "outputs": [],
   "source": [
    "Y_pred_knn_train = knn.predict(X_train)\n",
    "Y_pred_knn_test = knn.predict(X_test)"
   ]
  },
  {
   "cell_type": "code",
   "execution_count": 36,
   "id": "d9c4ad8e",
   "metadata": {},
   "outputs": [
    {
     "data": {
      "text/plain": [
       "0.0    8017\n",
       "1.0     967\n",
       "dtype: int64"
      ]
     },
     "execution_count": 36,
     "metadata": {},
     "output_type": "execute_result"
    }
   ],
   "source": [
    "pd.DataFrame(Y_pred_knn_train).value_counts()"
   ]
  },
  {
   "cell_type": "code",
   "execution_count": 37,
   "id": "e5d2fa5a",
   "metadata": {},
   "outputs": [
    {
     "data": {
      "text/plain": [
       "0.0    2004\n",
       "1.0     243\n",
       "dtype: int64"
      ]
     },
     "execution_count": 37,
     "metadata": {},
     "output_type": "execute_result"
    }
   ],
   "source": [
    "pd.DataFrame(Y_pred_knn_test).value_counts()"
   ]
  },
  {
   "cell_type": "markdown",
   "id": "1a46d4b3",
   "metadata": {},
   "source": [
    "### Random Forest Classifier"
   ]
  },
  {
   "cell_type": "code",
   "execution_count": 38,
   "id": "9a31c4d5",
   "metadata": {},
   "outputs": [],
   "source": [
    "Y_pred_rf_train = rf.predict(X_train)\n",
    "Y_pred_rf_test = rf.predict(X_test)"
   ]
  },
  {
   "cell_type": "code",
   "execution_count": 39,
   "id": "b229819d",
   "metadata": {},
   "outputs": [
    {
     "data": {
      "text/plain": [
       "0.0    8981\n",
       "1.0       3\n",
       "dtype: int64"
      ]
     },
     "execution_count": 39,
     "metadata": {},
     "output_type": "execute_result"
    }
   ],
   "source": [
    "pd.DataFrame(Y_pred_rf_train).value_counts()"
   ]
  },
  {
   "cell_type": "code",
   "execution_count": 40,
   "id": "f1f850cd",
   "metadata": {},
   "outputs": [
    {
     "data": {
      "text/plain": [
       "0.0    2246\n",
       "1.0       1\n",
       "dtype: int64"
      ]
     },
     "execution_count": 40,
     "metadata": {},
     "output_type": "execute_result"
    }
   ],
   "source": [
    "pd.DataFrame(Y_pred_rf_test).value_counts()"
   ]
  },
  {
   "cell_type": "markdown",
   "id": "b5909b9d",
   "metadata": {},
   "source": [
    "## Evaluating the ML Models using Metrics"
   ]
  },
  {
   "cell_type": "markdown",
   "id": "11755f4d",
   "metadata": {},
   "source": [
    "### Logistic Regression"
   ]
  },
  {
   "cell_type": "markdown",
   "id": "9b1d08b9",
   "metadata": {},
   "source": [
    "##### Classification Report"
   ]
  },
  {
   "cell_type": "code",
   "execution_count": 41,
   "id": "2379fd82",
   "metadata": {},
   "outputs": [
    {
     "name": "stdout",
     "output_type": "stream",
     "text": [
      "              precision    recall  f1-score   support\n",
      "\n",
      "         0.0       0.96      0.95      0.95      1976\n",
      "         1.0       0.65      0.73      0.69       271\n",
      "\n",
      "    accuracy                           0.92      2247\n",
      "   macro avg       0.81      0.84      0.82      2247\n",
      "weighted avg       0.93      0.92      0.92      2247\n",
      "\n"
     ]
    }
   ],
   "source": [
    "print(classification_report(Y_test, Y_pred_log_test))"
   ]
  },
  {
   "cell_type": "markdown",
   "id": "d91599ea",
   "metadata": {},
   "source": [
    "##### Accuracy, Precision, Recall, F1 Score"
   ]
  },
  {
   "cell_type": "code",
   "execution_count": 42,
   "id": "022b484d",
   "metadata": {},
   "outputs": [
    {
     "name": "stdout",
     "output_type": "stream",
     "text": [
      "Accuracy Score = 0.9207832665776591\n",
      "Precision = 0.9624485596707819\n",
      "Recall = 0.9468623481781376\n",
      "F1 Score = 0.9545918367346938\n"
     ]
    }
   ],
   "source": [
    "acc_log = accuracy_score(Y_test, Y_pred_log_test)\n",
    "prec_log, rec_log, f1_log, sup_log = precision_recall_fscore_support(Y_test, Y_pred_log_test)\n",
    "print('Accuracy Score =', acc_log)\n",
    "print('Precision =', prec_log[0])\n",
    "print('Recall =', rec_log[0])\n",
    "print('F1 Score =', f1_log[0])"
   ]
  },
  {
   "cell_type": "markdown",
   "id": "a06ad579",
   "metadata": {},
   "source": [
    "##### Checking for Overfitting and Underfitting"
   ]
  },
  {
   "cell_type": "code",
   "execution_count": 43,
   "id": "cf5a01ad",
   "metadata": {},
   "outputs": [
    {
     "name": "stdout",
     "output_type": "stream",
     "text": [
      "Training Accuracy = 0.9207479964381122\n",
      "Testing Accuracy = 0.9207832665776591\n"
     ]
    }
   ],
   "source": [
    "log_train_acc = accuracy_score(Y_train, Y_pred_log_train)\n",
    "log_test_acc = accuracy_score(Y_test, Y_pred_log_test)\n",
    "print('Training Accuracy =', log_train_acc)\n",
    "print('Testing Accuracy =', log_test_acc)"
   ]
  },
  {
   "cell_type": "markdown",
   "id": "a38bf50e",
   "metadata": {},
   "source": [
    "<p><b>There is no big variation in the training and testing accuracy. Therefore, the Logistic Regression model is not overfit or underfit.</b></p>"
   ]
  },
  {
   "cell_type": "markdown",
   "id": "9c23c54b",
   "metadata": {},
   "source": [
    "##### Confusion Matrix"
   ]
  },
  {
   "cell_type": "code",
   "execution_count": 44,
   "id": "9a43e622",
   "metadata": {},
   "outputs": [
    {
     "data": {
      "text/html": [
       "<div>\n",
       "<style scoped>\n",
       "    .dataframe tbody tr th:only-of-type {\n",
       "        vertical-align: middle;\n",
       "    }\n",
       "\n",
       "    .dataframe tbody tr th {\n",
       "        vertical-align: top;\n",
       "    }\n",
       "\n",
       "    .dataframe thead th {\n",
       "        text-align: right;\n",
       "    }\n",
       "</style>\n",
       "<table border=\"1\" class=\"dataframe\">\n",
       "  <thead>\n",
       "    <tr style=\"text-align: right;\">\n",
       "      <th>col_0</th>\n",
       "      <th>0.0</th>\n",
       "      <th>1.0</th>\n",
       "    </tr>\n",
       "    <tr>\n",
       "      <th>row_0</th>\n",
       "      <th></th>\n",
       "      <th></th>\n",
       "    </tr>\n",
       "  </thead>\n",
       "  <tbody>\n",
       "    <tr>\n",
       "      <th>0.0</th>\n",
       "      <td>1871</td>\n",
       "      <td>105</td>\n",
       "    </tr>\n",
       "    <tr>\n",
       "      <th>1.0</th>\n",
       "      <td>73</td>\n",
       "      <td>198</td>\n",
       "    </tr>\n",
       "  </tbody>\n",
       "</table>\n",
       "</div>"
      ],
      "text/plain": [
       "col_0   0.0  1.0\n",
       "row_0           \n",
       "0.0    1871  105\n",
       "1.0      73  198"
      ]
     },
     "execution_count": 44,
     "metadata": {},
     "output_type": "execute_result"
    }
   ],
   "source": [
    "pd.crosstab(Y_test.ravel(), Y_pred_log_test)"
   ]
  },
  {
   "cell_type": "markdown",
   "id": "defed3f1",
   "metadata": {},
   "source": [
    "### Support Vector Machine (Classifier)"
   ]
  },
  {
   "cell_type": "markdown",
   "id": "4168e3c3",
   "metadata": {},
   "source": [
    "##### Classification Report"
   ]
  },
  {
   "cell_type": "code",
   "execution_count": 45,
   "id": "3a8cdb6e",
   "metadata": {},
   "outputs": [
    {
     "name": "stdout",
     "output_type": "stream",
     "text": [
      "              precision    recall  f1-score   support\n",
      "\n",
      "         0.0       0.96      0.95      0.96      1976\n",
      "         1.0       0.66      0.73      0.69       271\n",
      "\n",
      "    accuracy                           0.92      2247\n",
      "   macro avg       0.81      0.84      0.82      2247\n",
      "weighted avg       0.93      0.92      0.92      2247\n",
      "\n"
     ]
    }
   ],
   "source": [
    "print(classification_report(Y_test, Y_pred_svc_test))"
   ]
  },
  {
   "cell_type": "markdown",
   "id": "96f3817e",
   "metadata": {},
   "source": [
    "##### Accuracy, Precision, Recall, F1 Score"
   ]
  },
  {
   "cell_type": "code",
   "execution_count": 46,
   "id": "b4d96382",
   "metadata": {},
   "outputs": [
    {
     "name": "stdout",
     "output_type": "stream",
     "text": [
      "Accuracy Score = 0.9216733422340899\n",
      "Recall = 0.9483805668016194\n",
      "F1 Score = 0.9551478083588174\n"
     ]
    }
   ],
   "source": [
    "acc_svc = accuracy_score(Y_test, Y_pred_svc_test)\n",
    "prec_svc, rec_svc, f1_svc, sup_svc = precision_recall_fscore_support(Y_test, Y_pred_svc_test)\n",
    "print('Accuracy Score =', acc_svc)\n",
    "print('Recall =', rec_svc[0])\n",
    "print('F1 Score =', f1_svc[0])"
   ]
  },
  {
   "cell_type": "markdown",
   "id": "fb3788d3",
   "metadata": {},
   "source": [
    "##### Checking for Overfitting and Underfitting"
   ]
  },
  {
   "cell_type": "code",
   "execution_count": 47,
   "id": "d97b8e2c",
   "metadata": {},
   "outputs": [
    {
     "name": "stdout",
     "output_type": "stream",
     "text": [
      "Training Accuracy = 0.9246438112199465\n",
      "Testing Accuracy = 0.9216733422340899\n"
     ]
    }
   ],
   "source": [
    "svc_train_acc = accuracy_score(Y_train, Y_pred_svc_train)\n",
    "svc_test_acc = accuracy_score(Y_test, Y_pred_svc_test)\n",
    "print('Training Accuracy =', svc_train_acc)\n",
    "print('Testing Accuracy =', svc_test_acc)"
   ]
  },
  {
   "cell_type": "markdown",
   "id": "5f3bd15c",
   "metadata": {},
   "source": [
    "<p><b>There is no big variation in the training and testing accuracy. Therefore, the Support Vector Classifier model is not overfit or underfit.</b></p>"
   ]
  },
  {
   "cell_type": "markdown",
   "id": "21de23ec",
   "metadata": {},
   "source": [
    "##### Confusion Matrix"
   ]
  },
  {
   "cell_type": "code",
   "execution_count": 48,
   "id": "ffa37c43",
   "metadata": {},
   "outputs": [
    {
     "data": {
      "text/html": [
       "<div>\n",
       "<style scoped>\n",
       "    .dataframe tbody tr th:only-of-type {\n",
       "        vertical-align: middle;\n",
       "    }\n",
       "\n",
       "    .dataframe tbody tr th {\n",
       "        vertical-align: top;\n",
       "    }\n",
       "\n",
       "    .dataframe thead th {\n",
       "        text-align: right;\n",
       "    }\n",
       "</style>\n",
       "<table border=\"1\" class=\"dataframe\">\n",
       "  <thead>\n",
       "    <tr style=\"text-align: right;\">\n",
       "      <th>col_0</th>\n",
       "      <th>0.0</th>\n",
       "      <th>1.0</th>\n",
       "    </tr>\n",
       "    <tr>\n",
       "      <th>row_0</th>\n",
       "      <th></th>\n",
       "      <th></th>\n",
       "    </tr>\n",
       "  </thead>\n",
       "  <tbody>\n",
       "    <tr>\n",
       "      <th>0.0</th>\n",
       "      <td>1874</td>\n",
       "      <td>102</td>\n",
       "    </tr>\n",
       "    <tr>\n",
       "      <th>1.0</th>\n",
       "      <td>74</td>\n",
       "      <td>197</td>\n",
       "    </tr>\n",
       "  </tbody>\n",
       "</table>\n",
       "</div>"
      ],
      "text/plain": [
       "col_0   0.0  1.0\n",
       "row_0           \n",
       "0.0    1874  102\n",
       "1.0      74  197"
      ]
     },
     "execution_count": 48,
     "metadata": {},
     "output_type": "execute_result"
    }
   ],
   "source": [
    "pd.crosstab(Y_test.ravel(), Y_pred_svc_test)"
   ]
  },
  {
   "cell_type": "markdown",
   "id": "f80b0d35",
   "metadata": {},
   "source": [
    "### KNN Classifier"
   ]
  },
  {
   "cell_type": "markdown",
   "id": "b563f956",
   "metadata": {},
   "source": [
    "##### Classification Report"
   ]
  },
  {
   "cell_type": "code",
   "execution_count": 49,
   "id": "9c53662b",
   "metadata": {},
   "outputs": [
    {
     "name": "stdout",
     "output_type": "stream",
     "text": [
      "              precision    recall  f1-score   support\n",
      "\n",
      "         0.0       0.95      0.96      0.95      1976\n",
      "         1.0       0.67      0.60      0.63       271\n",
      "\n",
      "    accuracy                           0.92      2247\n",
      "   macro avg       0.81      0.78      0.79      2247\n",
      "weighted avg       0.91      0.92      0.91      2247\n",
      "\n"
     ]
    }
   ],
   "source": [
    "print(classification_report(Y_test, Y_pred_knn_test))"
   ]
  },
  {
   "cell_type": "markdown",
   "id": "bffcff1e",
   "metadata": {},
   "source": [
    "##### Accuracy, Precision, Recall, F1 Score"
   ]
  },
  {
   "cell_type": "code",
   "execution_count": 50,
   "id": "4c0900aa",
   "metadata": {},
   "outputs": [
    {
     "name": "stdout",
     "output_type": "stream",
     "text": [
      "Accuracy Score = 0.9154428126390743\n",
      "Precision = 0.9456087824351297\n",
      "Recall = 0.9590080971659919\n",
      "F1 Score = 0.9522613065326633\n"
     ]
    }
   ],
   "source": [
    "acc_knn = accuracy_score(Y_test, Y_pred_knn_test)\n",
    "prec_knn, rec_knn, f1_knn, sup_knn = precision_recall_fscore_support(Y_test, Y_pred_knn_test)\n",
    "print('Accuracy Score =', acc_knn)\n",
    "print('Precision =', prec_knn[0])\n",
    "print('Recall =', rec_knn[0])\n",
    "print('F1 Score =', f1_knn[0])"
   ]
  },
  {
   "cell_type": "markdown",
   "id": "8f91ff64",
   "metadata": {},
   "source": [
    "##### Checking for Overfitting and Underfitting"
   ]
  },
  {
   "cell_type": "code",
   "execution_count": 51,
   "id": "fb1a29dc",
   "metadata": {},
   "outputs": [
    {
     "name": "stdout",
     "output_type": "stream",
     "text": [
      "Training Accuracy = 0.9346616206589492\n",
      "Testing Accuracy = 0.9154428126390743\n"
     ]
    }
   ],
   "source": [
    "knn_train_acc = accuracy_score(Y_train, Y_pred_knn_train)\n",
    "knn_test_acc = accuracy_score(Y_test, Y_pred_knn_test)\n",
    "print('Training Accuracy =', knn_train_acc)\n",
    "print('Testing Accuracy =', knn_test_acc)"
   ]
  },
  {
   "cell_type": "markdown",
   "id": "86fbca4c",
   "metadata": {},
   "source": [
    "<p><b>There is no big variation in the training and testing accuracy. Therefore, the KNN Classifier model is not overfit or underfit.</b></p>"
   ]
  },
  {
   "cell_type": "markdown",
   "id": "3b77cbaf",
   "metadata": {},
   "source": [
    "##### Confusion Matrix"
   ]
  },
  {
   "cell_type": "code",
   "execution_count": 52,
   "id": "77cad492",
   "metadata": {},
   "outputs": [
    {
     "data": {
      "text/html": [
       "<div>\n",
       "<style scoped>\n",
       "    .dataframe tbody tr th:only-of-type {\n",
       "        vertical-align: middle;\n",
       "    }\n",
       "\n",
       "    .dataframe tbody tr th {\n",
       "        vertical-align: top;\n",
       "    }\n",
       "\n",
       "    .dataframe thead th {\n",
       "        text-align: right;\n",
       "    }\n",
       "</style>\n",
       "<table border=\"1\" class=\"dataframe\">\n",
       "  <thead>\n",
       "    <tr style=\"text-align: right;\">\n",
       "      <th>col_0</th>\n",
       "      <th>0.0</th>\n",
       "      <th>1.0</th>\n",
       "    </tr>\n",
       "    <tr>\n",
       "      <th>row_0</th>\n",
       "      <th></th>\n",
       "      <th></th>\n",
       "    </tr>\n",
       "  </thead>\n",
       "  <tbody>\n",
       "    <tr>\n",
       "      <th>0.0</th>\n",
       "      <td>1895</td>\n",
       "      <td>81</td>\n",
       "    </tr>\n",
       "    <tr>\n",
       "      <th>1.0</th>\n",
       "      <td>109</td>\n",
       "      <td>162</td>\n",
       "    </tr>\n",
       "  </tbody>\n",
       "</table>\n",
       "</div>"
      ],
      "text/plain": [
       "col_0   0.0  1.0\n",
       "row_0           \n",
       "0.0    1895   81\n",
       "1.0     109  162"
      ]
     },
     "execution_count": 52,
     "metadata": {},
     "output_type": "execute_result"
    }
   ],
   "source": [
    "pd.crosstab(Y_test.ravel(), Y_pred_knn_test)"
   ]
  },
  {
   "cell_type": "markdown",
   "id": "ce0d297d",
   "metadata": {},
   "source": [
    "### Random Forest Classifier"
   ]
  },
  {
   "cell_type": "markdown",
   "id": "4f0ae439",
   "metadata": {},
   "source": [
    "##### Classification Report"
   ]
  },
  {
   "cell_type": "code",
   "execution_count": 53,
   "id": "a6cff8c1",
   "metadata": {},
   "outputs": [
    {
     "name": "stdout",
     "output_type": "stream",
     "text": [
      "              precision    recall  f1-score   support\n",
      "\n",
      "         0.0       0.88      1.00      0.94      1976\n",
      "         1.0       1.00      0.00      0.01       271\n",
      "\n",
      "    accuracy                           0.88      2247\n",
      "   macro avg       0.94      0.50      0.47      2247\n",
      "weighted avg       0.89      0.88      0.82      2247\n",
      "\n"
     ]
    }
   ],
   "source": [
    "print(classification_report(Y_test, Y_pred_rf_test))"
   ]
  },
  {
   "cell_type": "markdown",
   "id": "c88c9b7a",
   "metadata": {},
   "source": [
    "##### Accuracy, Precision, Recall, F1 Score"
   ]
  },
  {
   "cell_type": "code",
   "execution_count": 54,
   "id": "a74cb489",
   "metadata": {},
   "outputs": [
    {
     "name": "stdout",
     "output_type": "stream",
     "text": [
      "Accuracy Score = 0.8798397863818425\n",
      "Precision = 0.8797862867319679\n",
      "Recall = 1.0\n",
      "F1 Score = 0.9360492657508289\n"
     ]
    }
   ],
   "source": [
    "acc_rf = accuracy_score(Y_test, Y_pred_rf_test)\n",
    "prec_rf, rec_rf, f1_rf, sup_rf = precision_recall_fscore_support(Y_test, Y_pred_rf_test)\n",
    "print('Accuracy Score =', acc_rf)\n",
    "print('Precision =', prec_rf[0])\n",
    "print('Recall =', rec_rf[0])\n",
    "print('F1 Score =', f1_rf[0])"
   ]
  },
  {
   "cell_type": "markdown",
   "id": "b9fdcd13",
   "metadata": {},
   "source": [
    "##### Checking for Overfitting and Underfitting"
   ]
  },
  {
   "cell_type": "code",
   "execution_count": 55,
   "id": "a843ea24",
   "metadata": {},
   "outputs": [
    {
     "name": "stdout",
     "output_type": "stream",
     "text": [
      "Training Accuracy = 0.8774487978628673\n",
      "Testing Accuracy = 0.8798397863818425\n"
     ]
    }
   ],
   "source": [
    "rf_train_acc = accuracy_score(Y_train, Y_pred_rf_train)\n",
    "rf_test_acc = accuracy_score(Y_test, Y_pred_rf_test)\n",
    "print('Training Accuracy =', rf_train_acc)\n",
    "print('Testing Accuracy =', rf_test_acc)"
   ]
  },
  {
   "cell_type": "markdown",
   "id": "6d624926",
   "metadata": {},
   "source": [
    "<p><b>There is no big variation in the training and testing accuracy. Therefore, the Random Forest Classifier model is not overfit or underfit.</b></p>"
   ]
  },
  {
   "cell_type": "markdown",
   "id": "c3fe47ee",
   "metadata": {},
   "source": [
    "##### Confusion Matrix"
   ]
  },
  {
   "cell_type": "code",
   "execution_count": 56,
   "id": "ae10c4e0",
   "metadata": {},
   "outputs": [
    {
     "data": {
      "text/html": [
       "<div>\n",
       "<style scoped>\n",
       "    .dataframe tbody tr th:only-of-type {\n",
       "        vertical-align: middle;\n",
       "    }\n",
       "\n",
       "    .dataframe tbody tr th {\n",
       "        vertical-align: top;\n",
       "    }\n",
       "\n",
       "    .dataframe thead th {\n",
       "        text-align: right;\n",
       "    }\n",
       "</style>\n",
       "<table border=\"1\" class=\"dataframe\">\n",
       "  <thead>\n",
       "    <tr style=\"text-align: right;\">\n",
       "      <th>col_0</th>\n",
       "      <th>0.0</th>\n",
       "      <th>1.0</th>\n",
       "    </tr>\n",
       "    <tr>\n",
       "      <th>row_0</th>\n",
       "      <th></th>\n",
       "      <th></th>\n",
       "    </tr>\n",
       "  </thead>\n",
       "  <tbody>\n",
       "    <tr>\n",
       "      <th>0.0</th>\n",
       "      <td>1976</td>\n",
       "      <td>0</td>\n",
       "    </tr>\n",
       "    <tr>\n",
       "      <th>1.0</th>\n",
       "      <td>270</td>\n",
       "      <td>1</td>\n",
       "    </tr>\n",
       "  </tbody>\n",
       "</table>\n",
       "</div>"
      ],
      "text/plain": [
       "col_0   0.0  1.0\n",
       "row_0           \n",
       "0.0    1976    0\n",
       "1.0     270    1"
      ]
     },
     "execution_count": 56,
     "metadata": {},
     "output_type": "execute_result"
    }
   ],
   "source": [
    "pd.crosstab(Y_test.ravel(), Y_pred_rf_test)"
   ]
  },
  {
   "cell_type": "markdown",
   "id": "9e5ac2f2",
   "metadata": {},
   "source": [
    "<h3 style=\"font-style:italic\"> On comparing the four models built, based on the performance metrics it is clear that Support Vector Classifier gives the highest performance. Hence, that model is chosen for deployment </h3>"
   ]
  },
  {
   "cell_type": "markdown",
   "id": "60f61ff4",
   "metadata": {},
   "source": [
    "## Dumping the Chosen Model into pkl file"
   ]
  },
  {
   "cell_type": "code",
   "execution_count": 57,
   "id": "01407229",
   "metadata": {},
   "outputs": [
    {
     "data": {
      "text/plain": [
       "['model.pkl']"
      ]
     },
     "execution_count": 57,
     "metadata": {},
     "output_type": "execute_result"
    }
   ],
   "source": [
    "joblib.dump(svc, 'model.pkl')"
   ]
  }
 ],
 "metadata": {
  "kernelspec": {
   "display_name": "Python 3 (ipykernel)",
   "language": "python",
   "name": "python3"
  },
  "language_info": {
   "codemirror_mode": {
    "name": "ipython",
    "version": 3
   },
   "file_extension": ".py",
   "mimetype": "text/x-python",
   "name": "python",
   "nbconvert_exporter": "python",
   "pygments_lexer": "ipython3",
   "version": "3.10.5"
  }
 },
 "nbformat": 4,
 "nbformat_minor": 5
}
